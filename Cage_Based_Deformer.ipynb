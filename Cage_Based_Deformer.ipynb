{
 "cells": [
  {
   "cell_type": "code",
   "execution_count": 1,
   "metadata": {},
   "outputs": [],
   "source": [
    "import numpy as np\n",
    "import igl\n",
    "import meshplot as mp\n",
    "from scipy.spatial.transform import Rotation\n",
    "import ipywidgets as iw\n",
    "import time\n",
    "import triangle as tr\n",
    "\n",
    "numeric_tolerance = 1e-8"
   ]
  },
  {
   "cell_type": "markdown",
   "metadata": {},
   "source": [
    "# Step 0: Loading the enclosed mesh "
   ]
  },
  {
   "cell_type": "code",
   "execution_count": 2,
   "metadata": {},
   "outputs": [],
   "source": [
    "# for this project, we use a 2D mesh\n",
    "meshfile = 'data/man.off'\n",
    "v, f = igl.read_triangle_mesh(meshfile)\n",
    "v = v[:, :2]"
   ]
  },
  {
   "cell_type": "code",
   "execution_count": 3,
   "metadata": {},
   "outputs": [],
   "source": [
    "def normalize_vertices(vertices):\n",
    "    centroid = np.mean(vertices, axis=0)\n",
    "    translated_vertices = vertices - centroid\n",
    "    max_distance = np.max(np.linalg.norm(translated_vertices, axis=1))\n",
    "    normalized_vertices = translated_vertices / max_distance\n",
    "    return normalized_vertices\n",
    "\n",
    "v = normalize_vertices(v)"
   ]
  },
  {
   "cell_type": "markdown",
   "metadata": {},
   "source": [
    "# Step 1: Create a cage"
   ]
  },
  {
   "cell_type": "code",
   "execution_count": 4,
   "metadata": {},
   "outputs": [],
   "source": [
    "# Cage Utilities\n",
    "def rotate_vertices(vertices, angle_degrees):\n",
    "    angle_radians = np.radians(angle_degrees)\n",
    "    rotation_matrix = np.array([\n",
    "        [np.cos(angle_radians), -np.sin(angle_radians)],\n",
    "        [np.sin(angle_radians), np.cos(angle_radians)]\n",
    "    ])\n",
    "    rotated_vertices = np.dot(vertices, rotation_matrix.T)\n",
    "    return rotated_vertices\n",
    "\n",
    "def scale_vertices(vertices, scale_factor):\n",
    "    scaled_vertices = scale_factor * vertices\n",
    "    return scaled_vertices\n",
    "\n",
    "def generate_cage_vertices(num_vertices):\n",
    "    R = 1 / (2 * np.sin(np.pi / num_vertices))\n",
    "    angles = np.linspace(0, 2*np.pi, num_vertices, endpoint=False)\n",
    "    x_coords = R * np.cos(angles)\n",
    "    y_coords = R * np.sin(angles)\n",
    "    cage_vertices = np.column_stack((x_coords, y_coords))\n",
    "    return cage_vertices\n",
    "\n",
    "def centroid_added_cage(cage_vertices): \n",
    "    # add the last, which is the centroid of the other vertices\n",
    "    centroid = np.mean(cage_vertices, axis=0)\n",
    "    res = np.vstack((cage_vertices, centroid))    \n",
    "    return res \n",
    "\n",
    "def generate_cage_edges(num_vertices):\n",
    "    return np.column_stack((np.arange(num_vertices), np.arange(1, num_vertices + 1))) % num_vertices\n",
    "\n",
    "def generate_cage_faces(num_vertices):\n",
    "    # [0, 1, n-1], [1, 2, n-1], ..., [n-2, n-1, n-1]\n",
    "    # where n is the centroid\n",
    "    n = num_vertices\n",
    "    faces = [[i, i + 1, n] for i in range(n - 1)]\n",
    "    faces.append([n - 1, 0, n]) \n",
    "    return np.array(faces)\n",
    "    \n",
    "    "
   ]
  },
  {
   "cell_type": "code",
   "execution_count": 12,
   "metadata": {},
   "outputs": [],
   "source": [
    "initial_n = 7\n",
    "cage_n, cage_rotation, cage_scale = initial_n, 0, 1.5\n",
    "cage_vertices, cage_edges, cage_faces = generate_cage_vertices(initial_n), generate_cage_edges(initial_n), generate_cage_faces(initial_n)"
   ]
  },
  {
   "cell_type": "code",
   "execution_count": 13,
   "metadata": {},
   "outputs": [
    {
     "data": {
      "text/plain": [
       "((5040, 3), (7, 3))"
      ]
     },
     "execution_count": 13,
     "metadata": {},
     "output_type": "execute_result"
    }
   ],
   "source": [
    "f.shape, cage_faces.shape"
   ]
  },
  {
   "cell_type": "code",
   "execution_count": 14,
   "metadata": {},
   "outputs": [],
   "source": [
    "# Function to update the plot with new data\n",
    "def update_plot(cage_vertices, cage_edges, v, f):\n",
    "    global p\n",
    "\n",
    "# Function to be called when changed \n",
    "def update_selection_value(cage_n_arg, cage_rotation_arg, cage_scale_arg):\n",
    "    global cage_n, cage_rotation, cage_scale, cage_vertices, cage_edges, v\n",
    "    cage_n, cage_rotation, cage_scale = cage_n_arg, cage_rotation_arg, cage_scale_arg\n",
    "    cage_vertices = generate_cage_vertices(cage_n)\n",
    "    cage_vertices = rotate_vertices(cage_vertices, cage_rotation)\n",
    "    cage_vertices = scale_vertices(cage_vertices, cage_scale)\n",
    "    cage_edges = generate_cage_edges(cage_n)\n",
    "    # v = scale_vertices(v, cage_scale)\n",
    "    # update_plot(cage_vertices, cage_edges, cage_scale, f)\n",
    "\n",
    "# Widget Wrapper\n",
    "def widgets_wrapper():\n",
    "    value_widget = iw.IntSlider(min=4, max=10, value=cage_n, description=\"Cage Vertices:\")\n",
    "    cage_rotation_widget = iw.FloatSlider(min=-180, max=180, value=cage_rotation, description=\"Rotation:\")\n",
    "    cage_scale_widget = iw.FloatSlider(min=0.1, max=2, value=cage_scale, description=\"Scale:\")\n",
    "    \n",
    "    def on_change(_):\n",
    "        update_selection_value(value_widget.value, cage_rotation_widget.value, cage_scale_widget.value)\n",
    "    \n",
    "    widgets = [value_widget, cage_rotation_widget, cage_scale_widget]\n",
    "    for widget in widgets: widget.observe(on_change)\n",
    "    return iw.VBox(widgets)"
   ]
  },
  {
   "cell_type": "markdown",
   "metadata": {},
   "source": [
    "Outputs. Change From the Widget, then re-run to see the mesh. "
   ]
  },
  {
   "cell_type": "code",
   "execution_count": 15,
   "metadata": {},
   "outputs": [
    {
     "data": {
      "application/vnd.jupyter.widget-view+json": {
       "model_id": "1ad481cdff5947dfb66b0450de51142a",
       "version_major": 2,
       "version_minor": 0
      },
      "text/plain": [
       "interactive(children=(Output(),), _dom_classes=('widget-interact',))"
      ]
     },
     "metadata": {},
     "output_type": "display_data"
    }
   ],
   "source": [
    "# Widget UI\n",
    "iw.interact(widgets_wrapper);"
   ]
  },
  {
   "cell_type": "code",
   "execution_count": 20,
   "metadata": {},
   "outputs": [
    {
     "data": {
      "application/vnd.jupyter.widget-view+json": {
       "model_id": "64adfa0a4c5f4ac9a3930df16d0b1e29",
       "version_major": 2,
       "version_minor": 0
      },
      "text/plain": [
       "Renderer(camera=PerspectiveCamera(children=(DirectionalLight(color='white', intensity=0.6, position=(0.0493968…"
      ]
     },
     "metadata": {},
     "output_type": "display_data"
    },
    {
     "data": {
      "text/plain": [
       "1"
      ]
     },
     "execution_count": 20,
     "metadata": {},
     "output_type": "execute_result"
    }
   ],
   "source": [
    "p = mp.plot(centroid_added_cage(cage_vertices), cage_edges, return_plot=True)\n",
    "p.add_mesh(v, f, c=np.array([1, 0, 0]))"
   ]
  },
  {
   "cell_type": "markdown",
   "metadata": {},
   "source": [
    "This still needs some work to make it interactive. Right now, it is working, just that it doesn't show live changes until you re-run the widget."
   ]
  },
  {
   "cell_type": "markdown",
   "metadata": {},
   "source": [
    "# Step 2: Triangulate the cage and Get Harmonic Weights"
   ]
  },
  {
   "cell_type": "code",
   "execution_count": 21,
   "metadata": {},
   "outputs": [
    {
     "data": {
      "application/vnd.jupyter.widget-view+json": {
       "model_id": "09abce26b910461bbc49df4f806bf00a",
       "version_major": 2,
       "version_minor": 0
      },
      "text/plain": [
       "Renderer(camera=PerspectiveCamera(children=(DirectionalLight(color='white', intensity=0.6, position=(0.0493968…"
      ]
     },
     "metadata": {},
     "output_type": "display_data"
    },
    {
     "data": {
      "application/vnd.jupyter.widget-view+json": {
       "model_id": "dbac16f6c7ca48908180494318b4dabc",
       "version_major": 2,
       "version_minor": 0
      },
      "text/plain": [
       "Renderer(camera=PerspectiveCamera(children=(DirectionalLight(color='white', intensity=0.6, position=(0.0493968…"
      ]
     },
     "metadata": {},
     "output_type": "display_data"
    },
    {
     "data": {
      "text/plain": [
       "1"
      ]
     },
     "execution_count": 21,
     "metadata": {},
     "output_type": "execute_result"
    }
   ],
   "source": [
    "# def get_triangulated_cage\n",
    "cage_dict = dict(vertices=cage_vertices)\n",
    "cage_triangulated = tr.triangulate(cage_dict, 'qa0.01Y') # we need Y so we don't need to care about constraints betweeen cage vertices\n",
    "v_C, f_C = cage_triangulated['vertices'], cage_triangulated['triangles']\n",
    "mp.plot(v_C, f_C, shading={\"wireframe\": True})\n",
    "p2 = mp.plot(v_C, f_C, c=np.array([1, 0, 0]), shading={\"wireframe\": True})\n",
    "p2.add_mesh(v, f)"
   ]
  },
  {
   "cell_type": "code",
   "execution_count": 22,
   "metadata": {},
   "outputs": [],
   "source": [
    "# there are n harmonic weights to compute per vertex in `C`\n",
    "n_weights = cage_vertices.shape[0]\n",
    "n_c_verts = v_C.shape[0]\n",
    "h = np.zeros((n_c_verts, n_weights)) # h[a, i] is the `i-th` harmonic weight of the `a-th` vertex in C\n",
    "for i in range(n_weights): \n",
    "    # The boundaries vertices we need to set are the vertices of the cage `C`, and the boundary conditions is that the `i-th` harmonic weight of the `j-th` cage vertex is `1` if `i == j` and `0` otherwise.\n",
    "    b = np.arange(n_weights, dtype=f_C.dtype) # the first `n` vertices of `C` is the cage vertex\n",
    "    bc = np.zeros((n_weights, 1))\n",
    "    bc[i] = 1\n",
    "    \n",
    "    # Compute the harmonic weights\n",
    "    weights = igl.harmonic(v_C, f_C, b, bc, 1)\n",
    "    h[:, i] = weights\n",
    "assert(np.sum(h, axis=1).all() == 1)"
   ]
  },
  {
   "cell_type": "markdown",
   "metadata": {},
   "source": [
    "## The visualization of harmonic weights for each cage vertex over all vertices in S."
   ]
  },
  {
   "cell_type": "code",
   "execution_count": 23,
   "metadata": {},
   "outputs": [
    {
     "data": {
      "application/vnd.jupyter.widget-view+json": {
       "model_id": "74ffd84e1ee0443499dafaa04fcc4f67",
       "version_major": 2,
       "version_minor": 0
      },
      "text/plain": [
       "HBox(children=(Output(), Output(), Output()))"
      ]
     },
     "metadata": {},
     "output_type": "display_data"
    },
    {
     "data": {
      "application/vnd.jupyter.widget-view+json": {
       "model_id": "f380db155ecd47ddb15dd9ea3feb2563",
       "version_major": 2,
       "version_minor": 0
      },
      "text/plain": [
       "HBox(children=(Output(), Output(), Output()))"
      ]
     },
     "metadata": {},
     "output_type": "display_data"
    },
    {
     "data": {
      "application/vnd.jupyter.widget-view+json": {
       "model_id": "18b7034fc28746e5a5b8bd5955212354",
       "version_major": 2,
       "version_minor": 0
      },
      "text/plain": [
       "HBox(children=(Output(), Output(), Output()))"
      ]
     },
     "metadata": {},
     "output_type": "display_data"
    },
    {
     "data": {
      "application/vnd.jupyter.widget-view+json": {
       "model_id": "886d8a4c45bc48c7b5caea89cf03f5e1",
       "version_major": 2,
       "version_minor": 0
      },
      "text/plain": [
       "HBox(children=(Output(), Output(), Output()))"
      ]
     },
     "metadata": {},
     "output_type": "display_data"
    },
    {
     "data": {
      "application/vnd.jupyter.widget-view+json": {
       "model_id": "185aa3c5332e48f7a035b022204fe648",
       "version_major": 2,
       "version_minor": 0
      },
      "text/plain": [
       "HBox(children=(Output(), Output(), Output()))"
      ]
     },
     "metadata": {},
     "output_type": "display_data"
    }
   ],
   "source": [
    "p = mp.subplot(v_C, f_C, c=h[:, 0], shading={\"wireframe\": True}, s=[5,3,0])\n",
    "for i in range(1, n_weights): \n",
    "    mp.subplot(v_C, f_C, h[:, i], shading={\"wireframe\": True}, s=[5,3,i], data=p)"
   ]
  },
  {
   "cell_type": "markdown",
   "metadata": {},
   "source": [
    "# Step 3: Get Barycentric-Interpolated Harmonic Weights in Enclosed Mesh"
   ]
  },
  {
   "cell_type": "markdown",
   "metadata": {},
   "source": [
    "Subgoal: each vertex in `S` - `v_S_l` lies Euclideanly in face `ijk` in `C`. Find barycentric weights of `v_S_l` in terms of `i, j, k`. To do this, we find barycentric weights of `v_S_l` in terms of all vertices in `C` and find where it is positive. \n",
    "\n",
    "We represent [[a1, b1], [a2, b2], [a3, b3]] at index `l` as `l` in terms of `i, j, k` as `l = a1*i + b1*j + a2*i + b2*j + a3*i + b3*j`."
   ]
  },
  {
   "cell_type": "code",
   "execution_count": 24,
   "metadata": {},
   "outputs": [],
   "source": [
    "# a, b, c are the vertices of the triangles in the cage mesh -- a[i], b[i], c[i] makes the `i-th` triangle\n",
    "# we want to find where `point` is in the cage mesh and the barycentric weights of `point` in the triangle formed by `a[i], b[i], c[i]`\n",
    "def point_barycentric_information_in_cage_mesh(point, a, b, c): \n",
    "    # a,b,c is a vector of the traingles. we want to find points of face i, j, k in a single entry of a, b, c such that `point` is in the triangle formed by i, j, k\n",
    "    assert(point.shape == (2,))\n",
    "    assert(a.shape[0] == b.shape[0] == c.shape[0])\n",
    "    P = a.shape[0] # documentation uses `P` to denote the number of points\n",
    "    point_repeated_vec = np.repeat(np.expand_dims(point, axis=0), P, axis=0)\n",
    "    \n",
    "    # get barycentric weight of `point` (padded as 3D) in the triangle formed by a, b, c\n",
    "    def pad_3d(v_2d): return np.column_stack((v_2d, np.zeros(v_2d.shape[0])))\n",
    "    point_repeated_vec, a, b, c = pad_3d(point_repeated_vec), pad_3d(a), pad_3d(b), pad_3d(c)\n",
    "    barycentric_weights_vec = igl.barycentric_coordinates_tri(point_repeated_vec, a, b, c)\n",
    "    positive_condition_on_weights = np.all(barycentric_weights_vec >= 0, axis=1)\n",
    "    positive_barycentric_indices = np.where(positive_condition_on_weights)[0]\n",
    "    assert(positive_barycentric_indices.shape[0] <= 1) # otherwise, the point is not in the cage or is in multiple triangles\n",
    "\n",
    "    # index in to get i, j, k and weights \n",
    "    positive_index = positive_barycentric_indices[0]\n",
    "    barycentric_weights = barycentric_weights_vec[positive_index]\n",
    "    w_i, w_j, w_k = barycentric_weights\n",
    "    assert(np.abs(w_i + w_j + w_k - 1) < numeric_tolerance)\n",
    "    \n",
    "    return positive_index, w_i, w_j, w_k"
   ]
  },
  {
   "cell_type": "code",
   "execution_count": 25,
   "metadata": {},
   "outputs": [],
   "source": [
    "n_a_verts = v.shape[0]\n",
    "a, b, c = v_C[f_C[:, 0], :], v_C[f_C[:, 1], :], v_C[f_C[:, 2], :]\n",
    "h_p = np.zeros((n_a_verts, n_weights))\n",
    "for l in range(n_a_verts):\n",
    "    t, bary_w_i, bary_w_j, bary_w_k = point_barycentric_information_in_cage_mesh(v[l], a, b, c) \n",
    "    i, j, k = f_C[t] # get the indices of the vertices of the triangle\n",
    "    h_p[l, :] = bary_w_i * h[i] + bary_w_j * h[j] + bary_w_k * h[k]\n",
    "assert(np.sum(h_p, axis=1).all() == 1)\n",
    "# return h_p"
   ]
  },
  {
   "cell_type": "markdown",
   "metadata": {},
   "source": [
    "The visualization of harmonic weights for each cage vertex over all vertices in `S`."
   ]
  },
  {
   "cell_type": "code",
   "execution_count": 26,
   "metadata": {},
   "outputs": [
    {
     "data": {
      "application/vnd.jupyter.widget-view+json": {
       "model_id": "b2908c6fe0a3422ea57bc3f6067fa505",
       "version_major": 2,
       "version_minor": 0
      },
      "text/plain": [
       "HBox(children=(Output(), Output(), Output()))"
      ]
     },
     "metadata": {},
     "output_type": "display_data"
    },
    {
     "data": {
      "application/vnd.jupyter.widget-view+json": {
       "model_id": "350427cacab0463a8ad54a49318a683c",
       "version_major": 2,
       "version_minor": 0
      },
      "text/plain": [
       "HBox(children=(Output(), Output(), Output()))"
      ]
     },
     "metadata": {},
     "output_type": "display_data"
    },
    {
     "data": {
      "application/vnd.jupyter.widget-view+json": {
       "model_id": "f26a360087564792a928dea0d531b4a2",
       "version_major": 2,
       "version_minor": 0
      },
      "text/plain": [
       "HBox(children=(Output(), Output(), Output()))"
      ]
     },
     "metadata": {},
     "output_type": "display_data"
    },
    {
     "data": {
      "application/vnd.jupyter.widget-view+json": {
       "model_id": "d41d5d4720ec43bcb354ac4a0a376d33",
       "version_major": 2,
       "version_minor": 0
      },
      "text/plain": [
       "HBox(children=(Output(), Output(), Output()))"
      ]
     },
     "metadata": {},
     "output_type": "display_data"
    },
    {
     "data": {
      "application/vnd.jupyter.widget-view+json": {
       "model_id": "470908b526e443ccba4bf354cc5cd2d3",
       "version_major": 2,
       "version_minor": 0
      },
      "text/plain": [
       "HBox(children=(Output(), Output(), Output()))"
      ]
     },
     "metadata": {},
     "output_type": "display_data"
    }
   ],
   "source": [
    "p = mp.subplot(v, f, c=h_p[:, 0], shading={\"wireframe\": True}, s=[5,3,0])\n",
    "for i in range(1, n_weights): \n",
    "    mp.subplot(v, f, h_p[:, i], shading={\"wireframe\": True}, s=[5,3,i], data=p)"
   ]
  },
  {
   "cell_type": "markdown",
   "metadata": {},
   "source": [
    "# Step 4: Calculate New Mesh Vertices"
   ]
  },
  {
   "cell_type": "code",
   "execution_count": 27,
   "metadata": {},
   "outputs": [],
   "source": [
    "# return new vertices\n",
    "def calculate_deformation(h_p, cage_vertices): \n",
    "    # actually, this is as simple as a matrix multiplication, which is represented as a dot product. \n",
    "    return np.dot(h_p, cage_vertices)"
   ]
  },
  {
   "cell_type": "code",
   "execution_count": 33,
   "metadata": {},
   "outputs": [],
   "source": [
    "pos_f_saver = np.zeros((cage_vertices.shape[0], 2))\n",
    "def pos_f(s,x,y):\n",
    "    global cage_vertices, v, p\n",
    "    cage_vertices[s,:] = cage_vertices[s] + np.array([x,y])\n",
    "    pos_f_saver[s] = [x,y]\n",
    "    t0 = time.time()\n",
    "    v = pos_f.deformer(cage_vertices)\n",
    "    colors = np.array([1.0, 0.0, 0.0])\n",
    "    # p.update_object(oid = 0, vertices = cage_vertices, colors = colors)\n",
    "    # p.update_object(oid = 1, vertices = v, faces = f, colors = colors)\n",
    "    t1 = time.time()\n",
    "    print('FPS', 1/(t1 - t0))\n",
    "pos_f.deformer = lambda x: calculate_deformation(h_p, x)"
   ]
  },
  {
   "cell_type": "code",
   "execution_count": 40,
   "metadata": {},
   "outputs": [],
   "source": [
    "# Widget Wrapper\n",
    "def widgets_wrapper():\n",
    "    cage_widget = iw.Dropdown(options=np.arange(cage_n), description=\"Cage Vertex:\")\n",
    "    translate_widget = {i:iw.FloatSlider(min=-1, max=1, value=0) \n",
    "                        for i in 'xy'}\n",
    "    \n",
    "    def update_seg(*args):\n",
    "        (translate_widget['x'].value,\n",
    "        translate_widget['y'].value) = pos_f_saver[cage_widget.value]\n",
    "        \n",
    "    cage_widget.observe(update_seg, 'value')\n",
    "    widgets_dict = dict(s=cage_widget)\n",
    "    widgets_dict.update(translate_widget)\n",
    "    return widgets_dict"
   ]
  },
  {
   "cell_type": "markdown",
   "metadata": {},
   "source": [
    "Once again, first run the widget, do modifications, then re-run the plot in the next cell to see changes. "
   ]
  },
  {
   "cell_type": "code",
   "execution_count": 41,
   "metadata": {},
   "outputs": [
    {
     "data": {
      "application/vnd.jupyter.widget-view+json": {
       "model_id": "fc4b36a1655342f1837826fa0bf02cf3",
       "version_major": 2,
       "version_minor": 0
      },
      "text/plain": [
       "interactive(children=(Dropdown(description='Cage Vertex:', options=(0, 1, 2, 3, 4, 5, 6), value=0), FloatSlide…"
      ]
     },
     "metadata": {},
     "output_type": "display_data"
    },
    {
     "data": {
      "text/plain": [
       "<function __main__.pos_f(s, x, y)>"
      ]
     },
     "execution_count": 41,
     "metadata": {},
     "output_type": "execute_result"
    }
   ],
   "source": [
    "# Widget UI\n",
    "iw.interact(pos_f,\n",
    "            **widgets_wrapper())"
   ]
  },
  {
   "cell_type": "code",
   "execution_count": 43,
   "metadata": {},
   "outputs": [
    {
     "data": {
      "application/vnd.jupyter.widget-view+json": {
       "model_id": "dc13433b9dd04f7e92739be9a6d80c81",
       "version_major": 2,
       "version_minor": 0
      },
      "text/plain": [
       "Renderer(camera=PerspectiveCamera(children=(DirectionalLight(color='white', intensity=0.6, position=(1.4092490…"
      ]
     },
     "metadata": {},
     "output_type": "display_data"
    },
    {
     "data": {
      "text/plain": [
       "1"
      ]
     },
     "execution_count": 43,
     "metadata": {},
     "output_type": "execute_result"
    }
   ],
   "source": [
    "p = mp.plot(centroid_added_cage(cage_vertices), cage_faces, return_plot=True)\n",
    "p.add_mesh(v, f, shading={\"wireframe\": True}, c=np.array([0, 0, 1]))"
   ]
  }
 ],
 "metadata": {
  "kernelspec": {
   "display_name": "Python 3",
   "language": "python",
   "name": "python3"
  },
  "language_info": {
   "codemirror_mode": {
    "name": "ipython",
    "version": 3
   },
   "file_extension": ".py",
   "mimetype": "text/x-python",
   "name": "python",
   "nbconvert_exporter": "python",
   "pygments_lexer": "ipython3",
   "version": "3.9.12"
  }
 },
 "nbformat": 4,
 "nbformat_minor": 2
}
