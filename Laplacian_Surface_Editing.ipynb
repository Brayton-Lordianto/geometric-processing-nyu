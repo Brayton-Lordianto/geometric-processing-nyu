{
 "cells": [
  {
   "cell_type": "markdown",
   "id": "9a3bcff0",
   "metadata": {},
   "source": [
    "SCREENSHOTS: \n",
    "In the order of S, B, B', S'\n",
    "\n",
    "![](images/first.png)\n",
    "![](images/second.png)\n",
    "![](images/fourth.png)\n",
    "\n",
    "![](images/third.png)"
   ]
  },
  {
   "cell_type": "code",
   "execution_count": 1,
   "id": "6ab611a6",
   "metadata": {},
   "outputs": [],
   "source": [
    "numeric_tolerance = 1e-8"
   ]
  },
  {
   "cell_type": "code",
   "execution_count": 2,
   "id": "f93019fb",
   "metadata": {},
   "outputs": [],
   "source": [
    "# meshfile, label_file = 'data/hand.off', 'data/hand.label.npy'\n",
    "meshfile, label_file = 'data/woody-hi.off', 'data/woody-hi.label.npy'\n",
    "# meshfile, label_file = 'data/cactus.off', 'data/cactus.label.npy'\n",
    "# meshfile, label_file = 'data/cylinder.off', 'data/cylinder.label.npy'"
   ]
  },
  {
   "cell_type": "markdown",
   "id": "d1b081fd",
   "metadata": {},
   "source": [
    "# Given"
   ]
  },
  {
   "cell_type": "markdown",
   "id": "bd5db6cc",
   "metadata": {},
   "source": [
    "## Setup"
   ]
  },
  {
   "cell_type": "code",
   "execution_count": 3,
   "id": "local-investor",
   "metadata": {},
   "outputs": [],
   "source": [
    "import numpy as np\n",
    "import igl\n",
    "import meshplot as mp\n",
    "from scipy.spatial.transform import Rotation\n",
    "import ipywidgets as iw\n",
    "import time\n",
    "import scipy.sparse as sp\n"
   ]
  },
  {
   "cell_type": "code",
   "execution_count": 4,
   "id": "pharmaceutical-transsexual",
   "metadata": {},
   "outputs": [
    {
     "name": "stdout",
     "output_type": "stream",
     "text": [
      "Error: bad line (0)\n"
     ]
    }
   ],
   "source": [
    "u, f = igl.read_triangle_mesh(meshfile)\n",
    "labels = np.load(label_file).astype(int)\n",
    "u -= u.min(axis=0)\n",
    "u /= u.max()"
   ]
  },
  {
   "cell_type": "code",
   "execution_count": 5,
   "id": "tight-course",
   "metadata": {},
   "outputs": [],
   "source": [
    "handle_vertex_positions = u.copy()\n",
    "pos_f_saver = np.zeros((labels.max() + 1, 6))\n",
    "def pos_f(s,x,y,z, α, β, γ):\n",
    "    slices = (labels==s)\n",
    "    r = Rotation.from_euler('xyz', [α, β, γ], degrees=True)\n",
    "    v_slice = u[slices] + np.array([[x,y,z]])\n",
    "    center = v_slice.mean(axis=0)\n",
    "    handle_vertex_positions[slices] = r.apply(v_slice - center) + center\n",
    "    pos_f_saver[s - 1] = [x,y,z,α,β,γ]\n",
    "    t0 = time.time()\n",
    "    v_deformed = pos_f.deformer(handle_vertex_positions)\n",
    "    p.update_object(vertices = v_deformed)\n",
    "    t1 = time.time()\n",
    "    print('FPS', 1/(t1 - t0))\n",
    "pos_f.deformer = lambda x:x"
   ]
  },
  {
   "cell_type": "code",
   "execution_count": 6,
   "id": "stone-element",
   "metadata": {},
   "outputs": [],
   "source": [
    "def widgets_wrapper():\n",
    "    segment_widget = iw.Dropdown(options=np.arange(labels.max()) + 1)\n",
    "    translate_widget = {i:iw.FloatSlider(min=-1, max=1, value=0) \n",
    "                        for i in 'xyz'}\n",
    "    rotate_widget = {a:iw.FloatSlider(min=-90, max=90, value=0, step=1) \n",
    "                     for a in 'αβγ'}\n",
    "\n",
    "    def update_seg(*args):\n",
    "        (translate_widget['x'].value,translate_widget['y'].value,\n",
    "        translate_widget['z'].value,\n",
    "        rotate_widget['α'].value,rotate_widget['β'].value,\n",
    "        rotate_widget['γ'].value) = pos_f_saver[segment_widget.value]\n",
    "    segment_widget.observe(update_seg, 'value')\n",
    "    widgets_dict = dict(s=segment_widget)\n",
    "    widgets_dict.update(translate_widget)\n",
    "    widgets_dict.update(rotate_widget)\n",
    "    return widgets_dict"
   ]
  },
  {
   "cell_type": "code",
   "execution_count": 7,
   "id": "divine-variety",
   "metadata": {},
   "outputs": [
    {
     "data": {
      "text/plain": [
       "' (Optional) Register this function to perform interactive deformation\\npos_f.deformer = position_deformer\\n'"
      ]
     },
     "execution_count": 7,
     "metadata": {},
     "output_type": "execute_result"
    }
   ],
   "source": [
    "def position_deformer(target_pos):\n",
    "    '''Fill in this function to change positions'''\n",
    "    return target_pos\n",
    "''' (Optional) Register this function to perform interactive deformation\n",
    "pos_f.deformer = position_deformer\n",
    "'''"
   ]
  },
  {
   "cell_type": "markdown",
   "id": "6a87ddd6",
   "metadata": {},
   "source": [
    "## Output"
   ]
  },
  {
   "cell_type": "code",
   "execution_count": 8,
   "id": "proprietary-prediction",
   "metadata": {},
   "outputs": [
    {
     "data": {
      "application/vnd.jupyter.widget-view+json": {
       "model_id": "210297d0aeab4bc38d5ab5ca15b87b3c",
       "version_major": 2,
       "version_minor": 0
      },
      "text/plain": [
       "Renderer(camera=PerspectiveCamera(children=(DirectionalLight(color='white', intensity=0.6, position=(0.0833333…"
      ]
     },
     "metadata": {},
     "output_type": "display_data"
    },
    {
     "data": {
      "application/vnd.jupyter.widget-view+json": {
       "model_id": "b5cc8ecee239488986c187041bf5e9b0",
       "version_major": 2,
       "version_minor": 0
      },
      "text/plain": [
       "interactive(children=(Dropdown(description='s', options=(1, 2), value=1), FloatSlider(value=0.0, description='…"
      ]
     },
     "metadata": {},
     "output_type": "display_data"
    },
    {
     "data": {
      "text/plain": [
       "<function __main__.pos_f(s, x, y, z, α, β, γ)>"
      ]
     },
     "execution_count": 8,
     "metadata": {},
     "output_type": "execute_result"
    }
   ],
   "source": [
    "# ## Widget UI\n",
    "\n",
    "p = mp.plot(handle_vertex_positions, f, c=labels)\n",
    "iw.interact(pos_f,\n",
    "            **widgets_wrapper())"
   ]
  },
  {
   "cell_type": "markdown",
   "id": "716be638",
   "metadata": {},
   "source": [
    "# Step 1:  Removal of high-frequency details"
   ]
  },
  {
   "cell_type": "markdown",
   "id": "26d4a33d",
   "metadata": {},
   "source": [
    "## get A matrix"
   ]
  },
  {
   "cell_type": "code",
   "execution_count": 9,
   "id": "5d6bde15",
   "metadata": {},
   "outputs": [],
   "source": [
    "# vec \\subset U = {0, 1, ..., |universe|-1}\n",
    "# returns U \\ vec\n",
    "def set_inversion(vec, universe):\n",
    "    return np.array(sorted(set(range(universe)) - set(vec)))"
   ]
  },
  {
   "cell_type": "code",
   "execution_count": 10,
   "id": "5dc33b15",
   "metadata": {},
   "outputs": [],
   "source": [
    "def A_matrix(original_mesh_vertices,f): \n",
    "    # L_w * M^-1 * L_w\n",
    "    L_w = igl.cotmatrix(original_mesh_vertices, f)\n",
    "    M = igl.massmatrix(original_mesh_vertices, f, igl.MASSMATRIX_TYPE_VORONOI)\n",
    "    M_inv = sp.linalg.inv(M)\n",
    "    A = L_w @ M_inv @ L_w\n",
    "    return A"
   ]
  },
  {
   "cell_type": "code",
   "execution_count": 11,
   "id": "2c175a9d",
   "metadata": {},
   "outputs": [],
   "source": [
    "# A block matrices diagonally and zeros elsewhere\n",
    "def A_p_marix(original_mesh_vertices, f): \n",
    "    # get A and set up for the larger matrix \n",
    "    A = A_matrix(original_mesh_vertices, f)\n",
    "    rows, cols = A.shape\n",
    "    bigger_matrix = sp.csc_matrix((3 * rows, 3 * cols), dtype=A.dtype)\n",
    "    \n",
    "    # Copy matrix A into the appropriate positions of the bigger matrix\n",
    "    bigger_matrix[:rows, :cols] = A                # Top left\n",
    "    bigger_matrix[rows:2*rows, cols:2*cols] = A    # Middle middle\n",
    "    bigger_matrix[2*rows:, 2*cols:] = A            # Bottom right\n",
    "    return bigger_matrix"
   ]
  },
  {
   "cell_type": "code",
   "execution_count": 12,
   "id": "1636e1b0",
   "metadata": {},
   "outputs": [],
   "source": [
    "# cidx is the constrained indices\n",
    "def get_A_ff_A_fc(A, cidx, total_indices): \n",
    "    # also get non constrained faces\n",
    "    ncidx = set_inversion(cidx, total_indices)\n",
    "    \n",
    "    # A_ff, A_fc\n",
    "    A_ff = A[ncidx, :][:, ncidx]\n",
    "    A_fc = A[ncidx, :][:, cidx]\n",
    "    return A_ff, A_fc"
   ]
  },
  {
   "cell_type": "markdown",
   "id": "7693e5f8",
   "metadata": {},
   "source": [
    "## Precomputing `A`"
   ]
  },
  {
   "cell_type": "markdown",
   "id": "de1ddd10",
   "metadata": {},
   "source": [
    "Since we have that the handles are always the same vertices, we assume `cidx` is always the same. This also means we can safely have `A_ff` and `A_fc` be constant throughout."
   ]
  },
  {
   "cell_type": "code",
   "execution_count": 13,
   "id": "bbab40a8",
   "metadata": {},
   "outputs": [],
   "source": [
    "def get_u_p_c_cf(original_mesh_vertices, segments): \n",
    "    pass"
   ]
  },
  {
   "cell_type": "code",
   "execution_count": 14,
   "id": "366c0f14",
   "metadata": {},
   "outputs": [],
   "source": [
    "# This function is meant to be called only once. \n",
    "def precompute_A_ff_A_fc(original_mesh_vertices, f, segments):\n",
    "    # note that original_mesh_vertices is just u. \n",
    "    _, c_p_idx = get_u_p_c_cf(original_mesh_vertices, segments)\n",
    "    A_p = A_p_marix(original_mesh_vertices, f)\n",
    "    len_of_u = len(original_mesh_vertices) * 3\n",
    "    A_ff, A_fc = get_A_ff_A_fc(A_p, c_p_idx, total_indices=len_of_u)\n",
    "    return A_ff, A_fc"
   ]
  },
  {
   "cell_type": "markdown",
   "id": "a24ce14b",
   "metadata": {},
   "source": [
    "## get the u_c vector, and the `cf` vector"
   ]
  },
  {
   "cell_type": "code",
   "execution_count": 15,
   "id": "e12d3cf9",
   "metadata": {},
   "outputs": [],
   "source": [
    "# vec is a vector of 3D points\n",
    "# transforming to `p` means stacking the 3D points into a single vector in the form [vx1,...,vxn,vy1,...,vyn,vz1,...,vzn]\n",
    "def transform_vec_to_p(vec): \n",
    "    return np.hstack((vec[:, 0], vec[:, 1], vec[:, 2]))"
   ]
  },
  {
   "cell_type": "code",
   "execution_count": 16,
   "id": "c6a2078d",
   "metadata": {},
   "outputs": [],
   "source": [
    "# get the constrained for per-vertex\n",
    "# stacked x, y, z\n",
    "def get_u_p_c_cf(v, segments): \n",
    "    # get the constrained values as points, then stack them\n",
    "    u_c = v[segments != 0]\n",
    "    u_p_c = transform_vec_to_p(u_c)\n",
    "    \n",
    "    #  get the indices of the constrained points, then get tthe indices of the stacked versions [cidx, 1 * len(v) + cidx, 2 * len(v) + cidx]\n",
    "    c_idx = np.where(segments != 0)[0]\n",
    "    c_p_idx = np.hstack((c_idx, len(v) + c_idx, 2 * len(v) + c_idx))\n",
    "    \n",
    "    return u_p_c, c_p_idx"
   ]
  },
  {
   "cell_type": "markdown",
   "id": "9c5cdedb",
   "metadata": {},
   "source": [
    "## Solve the linear system to get u_f and u "
   ]
  },
  {
   "cell_type": "code",
   "execution_count": 17,
   "id": "698493df",
   "metadata": {},
   "outputs": [],
   "source": [
    "# this function just does the solver. A_ff and A_fc is precomputed. \n",
    "# Note to self that an earlier git push version is doing the same thing without precomputed A. \n",
    "def get_u_f(u_p_c, A_ff, A_fc): \n",
    "    RHS = - A_fc @ u_p_c\n",
    "    u_f = sp.linalg.spsolve(A_ff, RHS)\n",
    "    return u_f"
   ]
  },
  {
   "cell_type": "code",
   "execution_count": 18,
   "id": "80e109c8",
   "metadata": {},
   "outputs": [],
   "source": [
    "# map from \"correct order index\" : \"correct order value\" for the constrained values\n",
    "def get_cidx_to_c_map(cidx, c): \n",
    "    mp = {}\n",
    "    for i in range(cidx.shape[0]): \n",
    "        mp[cidx[i]] = c[i]\n",
    "    return mp"
   ]
  },
  {
   "cell_type": "code",
   "execution_count": 19,
   "id": "bddf0359",
   "metadata": {},
   "outputs": [],
   "source": [
    "def get_ordered_u(u_f, u_c, cidx): \n",
    "    u = np.zeros(u_f.shape[0] + u_c.shape[0])\n",
    "    cidx_set = set(cidx)\n",
    "    u_n = u_f.shape[0] + u_c.shape[0]\n",
    "    mp = get_cidx_to_c_map(cidx, u_c)\n",
    "    for i in range(u_n): \n",
    "        # if the current index is in the set of constrained faces, then we need to get the value from u_c\n",
    "        if i in cidx_set:\n",
    "            u[i] = mp[i]\n",
    "        else:  \n",
    "            u[i] = u_f[0]\n",
    "            u_f = u_f[1:]\n",
    "    return u"
   ]
  },
  {
   "cell_type": "code",
   "execution_count": 20,
   "id": "e0584458",
   "metadata": {},
   "outputs": [],
   "source": [
    "def get_u(v, segments, A_ff, A_fc): \n",
    "    # first get the stacked version of `u`\n",
    "    u_p_c, c_p_idx = get_u_p_c_cf(v, segments)\n",
    "    u_f_p = get_u_f(u_p_c, A_ff, A_fc)\n",
    "    u_p = get_ordered_u(u_f_p, u_p_c, c_p_idx)\n",
    "    \n",
    "    # then reshape it back to the original shape\n",
    "    n = len(v)\n",
    "    u = np.vstack((u_p[:n], u_p[n:2*n], u_p[2*n:])).T\n",
    "    return u "
   ]
  },
  {
   "cell_type": "markdown",
   "id": "f192aba5",
   "metadata": {},
   "source": [
    "## Required Output"
   ]
  },
  {
   "cell_type": "code",
   "execution_count": 21,
   "id": "a9fccc43",
   "metadata": {},
   "outputs": [
    {
     "name": "stderr",
     "output_type": "stream",
     "text": [
      "/opt/homebrew/lib/python3.10/site-packages/scipy/sparse/_index.py:137: SparseEfficiencyWarning: Changing the sparsity structure of a csc_matrix is expensive. lil_matrix is more efficient.\n",
      "  self._set_arrayXarray_sparse(i, j, x)\n"
     ]
    },
    {
     "data": {
      "application/vnd.jupyter.widget-view+json": {
       "model_id": "d7f5b98073f9464bad2a298b5539baf9",
       "version_major": 2,
       "version_minor": 0
      },
      "text/plain": [
       "Renderer(camera=PerspectiveCamera(children=(DirectionalLight(color='white', intensity=0.6, position=(0.0833333…"
      ]
     },
     "metadata": {},
     "output_type": "display_data"
    },
    {
     "data": {
      "text/plain": [
       "<meshplot.Viewer.Viewer at 0x13a91c6a0>"
      ]
     },
     "execution_count": 21,
     "metadata": {},
     "output_type": "execute_result"
    }
   ],
   "source": [
    "A_ff, A_fc = precompute_A_ff_A_fc(u, f, labels)\n",
    "B = get_u(u, labels, A_ff, A_fc)\n",
    "mp.plot(B, f, shading={\"wireframe\": True})"
   ]
  },
  {
   "cell_type": "markdown",
   "id": "ae448792",
   "metadata": {},
   "source": [
    "# Step 2:  Deforming the smooth mesh\n"
   ]
  },
  {
   "cell_type": "markdown",
   "id": "c6b42e06",
   "metadata": {},
   "source": [
    "You do the same things, except the new vertices passed in are the handle_vertices, which are just changed values"
   ]
  },
  {
   "cell_type": "code",
   "execution_count": 22,
   "id": "eef0def3",
   "metadata": {},
   "outputs": [
    {
     "data": {
      "application/vnd.jupyter.widget-view+json": {
       "model_id": "ce58f3e16a2b480e86b20a23128aba62",
       "version_major": 2,
       "version_minor": 0
      },
      "text/plain": [
       "Renderer(camera=PerspectiveCamera(children=(DirectionalLight(color='white', intensity=0.6, position=(0.0833333…"
      ]
     },
     "metadata": {},
     "output_type": "display_data"
    },
    {
     "data": {
      "text/plain": [
       "<meshplot.Viewer.Viewer at 0x103a89ed0>"
      ]
     },
     "execution_count": 22,
     "metadata": {},
     "output_type": "execute_result"
    }
   ],
   "source": [
    "# A_ff, A_fc = precompute_A_ff_A_fc(u, f, labels)\n",
    "B_p = get_u(handle_vertex_positions, labels, A_ff, A_fc)\n",
    "mp.plot(B_p, f, shading={'wireframe': True})"
   ]
  },
  {
   "cell_type": "markdown",
   "id": "1dc88f0f",
   "metadata": {},
   "source": [
    "# Step 3: Transferring high-frequency details to the deformed surface"
   ]
  },
  {
   "cell_type": "markdown",
   "id": "71c59954",
   "metadata": {},
   "source": [
    "## For each vertex. Vector reference frames and coefficients in `B` and `B'`"
   ]
  },
  {
   "cell_type": "code",
   "execution_count": 23,
   "id": "a20e4db3",
   "metadata": {},
   "outputs": [],
   "source": [
    "# expressing a vector in terms of basis vectors - you can verfy this method using the column way of matrix multiplication\n",
    "def basis_representation(x, b1, b2, b3): \n",
    "    # Construct the matrix B with the basis vectors as columns\n",
    "    # Solve the equation x = Bc for the coefficients c\n",
    "    B = np.column_stack((b1, b2, b3))\n",
    "    c = np.linalg.solve(B, x)\n",
    "    assert(((b1 * c[0] + b2 * c[1] + b3 * c[2] - x) < numeric_tolerance).all())\n",
    "    return c \n",
    "\n",
    "# n is the normal, e is the edge, and we project e onto the tangent plane of n\n",
    "# this is from Gram-Schmidt\n",
    "def projection_onto_tangent(n, e):\n",
    "    return e - (np.dot(e,n)/np.dot(n,n)) * n\n",
    "\n",
    "def vector_normalize(v): \n",
    "    return v / np.linalg.norm(v)"
   ]
  },
  {
   "cell_type": "code",
   "execution_count": 24,
   "id": "8d1f0e7e",
   "metadata": {},
   "outputs": [],
   "source": [
    "# for every vertex in B, we want it's three basis vectors, and also the edge we used so that we can use it in B'\n",
    "def get_vertex_basis_B(vertex_pos, vertex_normal, adjacent_vertices_pos): \n",
    "    # 1. The unit vertex normal\n",
    "    n = vertex_normal\n",
    "    \n",
    "    # 2.1. v's outgoing edges\n",
    "    edges = adjacent_vertices_pos - vertex_pos\n",
    "    # 2.2. projection of one of v's outgoing edges onto the tangent plane\n",
    "    max_projection, original_edge_index = None, -1\n",
    "    for i in range(edges.shape[0]): \n",
    "        # edge whose projection onto the tangent plane is longest\n",
    "        e = edges[i]\n",
    "        projection = projection_onto_tangent(n, e)\n",
    "        if max_projection is None or np.linalg.norm(projection) > np.linalg.norm(max_projection):\n",
    "            max_projection, original_edge_index = projection, i\n",
    "    # 2.3 normalized\n",
    "    p = vector_normalize(max_projection)\n",
    "    \n",
    "    # 3. The cross-product between (1) and (2)\n",
    "    k = np.cross(n, p)\n",
    "    \n",
    "    # return the basis vectors and the edge\n",
    "    assert(np.dot(n, p) < numeric_tolerance and np.dot(n, k) < numeric_tolerance and np.dot(p, k) < numeric_tolerance)\n",
    "    return n, p, k, original_edge_index"
   ]
  },
  {
   "cell_type": "code",
   "execution_count": 25,
   "id": "2c89a57e",
   "metadata": {},
   "outputs": [],
   "source": [
    "# for B` => this is completely different from the previous one\n",
    "# this is easier beccasue step 2 is partly done for you\n",
    "def get_vertex_basis_B_p(vertex_normal, projection_edge): \n",
    "    # 1. The unit vertex normal\n",
    "    n = vertex_normal\n",
    "    \n",
    "    # 2. projection of `projection_edge` onto the tangent plane\n",
    "    p_unormalized = projection_onto_tangent(n, projection_edge)\n",
    "    p = vector_normalize(p_unormalized)\n",
    "    \n",
    "    # 3. The cross-product between (1) and (2)\n",
    "    k = np.cross(n, p)\n",
    "    \n",
    "    # return the basis vectors and the edge\n",
    "    assert(np.dot(n, p) < numeric_tolerance and np.dot(n, k) < numeric_tolerance and np.dot(p, k) < numeric_tolerance)\n",
    "    return n, p, k"
   ]
  },
  {
   "cell_type": "markdown",
   "id": "d203dd73",
   "metadata": {},
   "source": [
    "## Get vertex positions based on high frequency detail for all vertices"
   ]
  },
  {
   "cell_type": "code",
   "execution_count": 26,
   "id": "b4e641f0",
   "metadata": {},
   "outputs": [],
   "source": [
    "def precompute_additional_B_info(B_verts, f):\n",
    "    l = B_verts.shape[0]\n",
    "    vertex_normals = igl.per_vertex_normals(B_verts, f, igl.PER_VERTEX_NORMALS_WEIGHTING_TYPE_UNIFORM)\n",
    "    adj = igl.adjacency_list(f)\n",
    "    n_vec, p_vec, k_vec, original_edge_index_vec = np.zeros((B_verts.shape[0], 3)), np.zeros((B_verts.shape[0], 3)), np.zeros((B_verts.shape[0], 3)), np.zeros(B_verts.shape[0], dtype=int)\n",
    "    for i in range(l): \n",
    "        n_vec[i], p_vec[i], k_vec[i], original_edge_index_vec[i] = get_vertex_basis_B(vertex_pos=B_verts[i], \n",
    "                                                                                      vertex_normal=vertex_normals[i], \n",
    "                                                                                      adjacent_vertices_pos=B_verts[adj[i]])\n",
    "    adj = igl.adjacency_list(f)\n",
    "    B_additional_info = (n_vec, p_vec, k_vec, original_edge_index_vec, adj)\n",
    "    return B_additional_info"
   ]
  },
  {
   "cell_type": "code",
   "execution_count": 27,
   "id": "6b2f173f",
   "metadata": {},
   "outputs": [],
   "source": [
    "# get the new vertex position of u'\n",
    "# for each vertex u in B and it's corresponding vertex u' in B'\n",
    "# note we have the original v which are the vertices of the mesh\n",
    "# the best way to remember or understand what is happening is imagining visually. \n",
    "def get_v_p_new_pos(v, u, u_p, f, B_additional_info): \n",
    "    assert(u.shape == u_p.shape == v.shape)\n",
    "    n_vec, p_vec, k_vec, original_edge_index_vec, adj = B_additional_info\n",
    "    vertex_prime_normals = igl.per_vertex_normals(u_p, f, igl.PER_VERTEX_NORMALS_WEIGHTING_TYPE_UNIFORM)\n",
    "    l = u.shape[0]\n",
    "    v_p = np.zeros(u_p.shape)\n",
    "    \n",
    "    for i in range(l): \n",
    "        # basis of `B`\n",
    "        n, p, k, original_edge_index = n_vec[i], p_vec[i], k_vec[i], original_edge_index_vec[i]\n",
    "        \n",
    "        # deformed vertex to it's original position\n",
    "        # expressed as coefficients of the basis vectors\n",
    "        u_to_v = v[i] - u[i]\n",
    "        coefficients = basis_representation(u_to_v, n, p, k)\n",
    "        \n",
    "        # basis of `B'`\n",
    "        selected_edge_dst = u_p[adj[i]][original_edge_index] # we want to use the same edge as we did with `u`, but with the actual deformed edge in B'\n",
    "        selected_edge = selected_edge_dst - u_p[i]\n",
    "        n_p, p_p, k_p = get_vertex_basis_B_p(vertex_normal=vertex_prime_normals[i], \n",
    "                                             projection_edge=selected_edge)\n",
    "                                             \n",
    "        # using the same coefficients in the primed basis\n",
    "        u_p_to_v_p = coefficients[0] * n_p + coefficients[1] * p_p + coefficients[2] * k_p\n",
    "        v_p[i] = u_p[i] + u_p_to_v_p\n",
    "        \n",
    "    return v_p"
   ]
  },
  {
   "cell_type": "markdown",
   "id": "7f5f54ff",
   "metadata": {},
   "source": [
    "## Required Output"
   ]
  },
  {
   "cell_type": "code",
   "execution_count": 28,
   "id": "5e8af47c",
   "metadata": {},
   "outputs": [
    {
     "data": {
      "application/vnd.jupyter.widget-view+json": {
       "model_id": "d956522eeaf04caf98842305bc05c972",
       "version_major": 2,
       "version_minor": 0
      },
      "text/plain": [
       "Renderer(camera=PerspectiveCamera(children=(DirectionalLight(color='white', intensity=0.6, position=(0.0833333…"
      ]
     },
     "metadata": {},
     "output_type": "display_data"
    },
    {
     "data": {
      "text/plain": [
       "<meshplot.Viewer.Viewer at 0x13aca6200>"
      ]
     },
     "execution_count": 28,
     "metadata": {},
     "output_type": "execute_result"
    }
   ],
   "source": [
    "# not needed precomputation -- and data about B\n",
    "# A_ff, A_fc = precompute_A_ff_A_fc(u, f, labels)\n",
    "# B = get_u(u, labels, A_ff, A_fc)\n",
    "B_additional_info = precompute_additional_B_info(B, f)\n",
    "\n",
    "# the `u` and `B` can get confusing. Essentially, in `u`, we have the original mesh vertices, and in `B`, we have the deformed mesh vertices.\n",
    "B_p = get_u(handle_vertex_positions, labels, A_ff, A_fc)\n",
    "v_p = get_v_p_new_pos(v=u, u=B, u_p=B_p, f=f, B_additional_info=B_additional_info)\n",
    "mp.plot(v_p, f)"
   ]
  },
  {
   "cell_type": "markdown",
   "id": "9f3b7a5c",
   "metadata": {},
   "source": [
    "# Outputs"
   ]
  },
  {
   "cell_type": "code",
   "execution_count": 29,
   "id": "135fe646",
   "metadata": {},
   "outputs": [
    {
     "data": {
      "text/plain": [
       "2"
      ]
     },
     "execution_count": 29,
     "metadata": {},
     "output_type": "execute_result"
    }
   ],
   "source": [
    "2"
   ]
  },
  {
   "cell_type": "code",
   "execution_count": 30,
   "id": "2d61dc41",
   "metadata": {},
   "outputs": [
    {
     "data": {
      "application/vnd.jupyter.widget-view+json": {
       "model_id": "18f4d20329f1437f8aff3bcad6c81c40",
       "version_major": 2,
       "version_minor": 0
      },
      "text/plain": [
       "Renderer(camera=PerspectiveCamera(children=(DirectionalLight(color='white', intensity=0.6, position=(0.0833333…"
      ]
     },
     "metadata": {},
     "output_type": "display_data"
    },
    {
     "data": {
      "application/vnd.jupyter.widget-view+json": {
       "model_id": "21d85a54e2334e4996c530106caed63c",
       "version_major": 2,
       "version_minor": 0
      },
      "text/plain": [
       "interactive(children=(Dropdown(description='s', options=(1, 2), value=1), FloatSlider(value=0.0, description='…"
      ]
     },
     "metadata": {},
     "output_type": "display_data"
    },
    {
     "data": {
      "text/plain": [
       "<function __main__.pos_f(s, x, y, z, α, β, γ)>"
      ]
     },
     "execution_count": 30,
     "metadata": {},
     "output_type": "execute_result"
    }
   ],
   "source": [
    "# ## Widget UI\n",
    "\n",
    "p = mp.plot(handle_vertex_positions, f, c=labels)\n",
    "iw.interact(pos_f,\n",
    "            **widgets_wrapper())"
   ]
  },
  {
   "cell_type": "code",
   "execution_count": 31,
   "id": "2bc38b8a",
   "metadata": {},
   "outputs": [],
   "source": [
    "A_ff, A_fc = precompute_A_ff_A_fc(u, f, labels)\n",
    "B = get_u(u, labels, A_ff, A_fc)\n",
    "B_p = get_u(handle_vertex_positions, labels, A_ff, A_fc)\n",
    "B_additional_info = precompute_additional_B_info(B, f)\n",
    "B_p = get_u(handle_vertex_positions, labels, A_ff, A_fc)\n",
    "v_p = get_v_p_new_pos(v=u, u=B, u_p=B_p, f=f, B_additional_info=B_additional_info)"
   ]
  },
  {
   "cell_type": "code",
   "execution_count": 32,
   "id": "c9e801fc",
   "metadata": {},
   "outputs": [
    {
     "data": {
      "application/vnd.jupyter.widget-view+json": {
       "model_id": "4131aec111aa44e6b34ee95a02df424c",
       "version_major": 2,
       "version_minor": 0
      },
      "text/plain": [
       "HBox(children=(Output(),))"
      ]
     },
     "metadata": {},
     "output_type": "display_data"
    },
    {
     "data": {
      "application/vnd.jupyter.widget-view+json": {
       "model_id": "8295ca50b6244221a36892572340f2fb",
       "version_major": 2,
       "version_minor": 0
      },
      "text/plain": [
       "HBox(children=(Output(),))"
      ]
     },
     "metadata": {},
     "output_type": "display_data"
    },
    {
     "data": {
      "application/vnd.jupyter.widget-view+json": {
       "model_id": "f12d835fa8054d21a1699b5c1f849fc9",
       "version_major": 2,
       "version_minor": 0
      },
      "text/plain": [
       "HBox(children=(Output(),))"
      ]
     },
     "metadata": {},
     "output_type": "display_data"
    },
    {
     "data": {
      "application/vnd.jupyter.widget-view+json": {
       "model_id": "908b6bdd18f94b748a70b04713669f63",
       "version_major": 2,
       "version_minor": 0
      },
      "text/plain": [
       "HBox(children=(Output(),))"
      ]
     },
     "metadata": {},
     "output_type": "display_data"
    },
    {
     "data": {
      "application/vnd.jupyter.widget-view+json": {
       "model_id": "e05549a29c5d4b90ab4cc7cce71243f2",
       "version_major": 2,
       "version_minor": 0
      },
      "text/plain": [
       "Renderer(camera=PerspectiveCamera(children=(DirectionalLight(color='white', intensity=0.6, position=(-0.316666…"
      ]
     },
     "metadata": {},
     "output_type": "display_data"
    },
    {
     "data": {
      "application/vnd.jupyter.widget-view+json": {
       "model_id": "4a7888134b7a47a3ba114f7930c64746",
       "version_major": 2,
       "version_minor": 0
      },
      "text/plain": [
       "Renderer(camera=PerspectiveCamera(children=(DirectionalLight(color='white', intensity=0.6, position=(-0.316669…"
      ]
     },
     "metadata": {},
     "output_type": "display_data"
    },
    {
     "data": {
      "text/plain": [
       "<meshplot.Viewer.Viewer at 0x14abc7b80>"
      ]
     },
     "execution_count": 32,
     "metadata": {},
     "output_type": "execute_result"
    }
   ],
   "source": [
    "p = mp.subplot(u, f, shading={\"wireframe\": True}, s=[4, 1, 0])\n",
    "mp.subplot(B, f, shading={\"wireframe\": True}, s=[4, 1, 1], data=p)\n",
    "mp.plot(B_p, f, shading={'wireframe': True}, s=[4, 1, 2], data=p)\n",
    "mp.plot(v_p, f, s=[4, 1, 3], data=p, shading={\"wireframe\": True})"
   ]
  },
  {
   "cell_type": "markdown",
   "id": "d2e0a662",
   "metadata": {},
   "source": [
    "# Optional Task: Performance"
   ]
  },
  {
   "cell_type": "markdown",
   "id": "ec3efdfd",
   "metadata": {},
   "source": [
    "## Note to grader\n",
    "\n",
    "I was unable to install sckit-sparse, so I was only able to use .splu. I have brought this up with TA Arvi, and he said it was fine to use .splu. The real thing with sckit-sparse will make it a little faster, so it would have likely made my code faster and work within the required time limits.\n"
   ]
  },
  {
   "cell_type": "code",
   "execution_count": null,
   "id": "986bafcc",
   "metadata": {},
   "outputs": [],
   "source": [
    "from scipy.sparse.linalg import splu"
   ]
  },
  {
   "cell_type": "code",
   "execution_count": null,
   "id": "8e477ffb",
   "metadata": {},
   "outputs": [],
   "source": [
    "# We speed up by using Cholesky decomposition on A_ff\n",
    "# this function just does the solver. A_ff and A_fc is precomputed. \n",
    "# Note to self that an earlier git push version is doing the same thing without precomputed A. \n",
    "def get_u_f(u_p_c, A_ff, A_fc): \n",
    "    # A_ff is now a spLU object\n",
    "    RHS = - A_fc @ u_p_c\n",
    "    u_f = A_ff.solve(RHS)\n",
    "    return u_f"
   ]
  },
  {
   "cell_type": "code",
   "execution_count": null,
   "id": "02fe9327",
   "metadata": {},
   "outputs": [],
   "source": [
    "A_ff_splu = splu(A_ff)\n",
    "B_additional_info = precompute_additional_B_info(B, f)"
   ]
  },
  {
   "cell_type": "code",
   "execution_count": null,
   "id": "1b65dd5a",
   "metadata": {},
   "outputs": [],
   "source": [
    "def position_deformer(target_pos):\n",
    "    '''Fill in this function to change positions'''\n",
    "    B_p = get_u(target_pos, labels, A_ff_splu, A_fc)\n",
    "    v_p = get_v_p_new_pos(u, B, B_p, f, B_additional_info)\n",
    "    return v_p\n",
    "''' (Optional) Register this function to perform interactive deformation\n",
    "pos_f.deformer = position_deformer\n",
    "'''"
   ]
  },
  {
   "cell_type": "markdown",
   "id": "b30c5f84",
   "metadata": {},
   "source": [
    "## To see the output, watch the video attached"
   ]
  },
  {
   "cell_type": "code",
   "execution_count": null,
   "id": "e9cf97ab",
   "metadata": {},
   "outputs": [],
   "source": [
    "p = mp.plot(handle_vertex_positions, f, c=labels, shading={\"wireframe\": True})\n",
    "iw.interact(pos_f,\n",
    "            **widgets_wrapper())\n",
    "pos_f.deformer = position_deformer"
   ]
  }
 ],
 "metadata": {
  "kernelspec": {
   "display_name": "Python 3 (ipykernel)",
   "language": "python",
   "name": "python3"
  },
  "language_info": {
   "codemirror_mode": {
    "name": "ipython",
    "version": 3
   },
   "file_extension": ".py",
   "mimetype": "text/x-python",
   "name": "python",
   "nbconvert_exporter": "python",
   "pygments_lexer": "ipython3",
   "version": "3.10.13"
  }
 },
 "nbformat": 4,
 "nbformat_minor": 5
}
