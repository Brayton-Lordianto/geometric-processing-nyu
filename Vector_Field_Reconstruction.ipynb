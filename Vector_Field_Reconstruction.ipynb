{
 "cells": [
  {
   "cell_type": "markdown",
   "metadata": {},
   "source": [
    "# Assigment 4"
   ]
  },
  {
   "cell_type": "code",
   "execution_count": 7,
   "metadata": {},
   "outputs": [],
   "source": [
    "import math\n",
    "import numpy as np\n",
    "import scipy.sparse as sp\n",
    "\n",
    "import igl\n",
    "import meshplot as mp\n",
    "\n",
    "from math import sqrt"
   ]
  },
  {
   "cell_type": "code",
   "execution_count": 8,
   "metadata": {},
   "outputs": [],
   "source": [
    "def get_data(file=\"data/irr4-cyl2.off\"): \n",
    "    v, f = igl.read_triangle_mesh(file)\n",
    "    tt, _ = igl.triangle_triangle_adjacency(f)\n",
    "    c = np.loadtxt(\"data/irr4-cyl2.constraints\")\n",
    "    cf = c[:, 0].astype(np.int64)\n",
    "    c = c[:, 1:]\n",
    "    \n",
    "    return v, f, tt, c, cf"
   ]
  },
  {
   "cell_type": "code",
   "execution_count": 9,
   "metadata": {},
   "outputs": [],
   "source": [
    "def plot_mesh_field(V, F, R, constrain_faces, col=None, add_lines=True):\n",
    "    # Highlight in red the constrained faces\n",
    "    if col is None: \n",
    "        col = np.ones_like(F)\n",
    "        col[constrain_faces, 1:] = 0\n",
    "\n",
    "    p = mp.plot(V, F, c=col)\n",
    "    if add_lines:\n",
    "        # Scaling of the representative vectors\n",
    "        avg = igl.avg_edge_length(V, F)/2\n",
    "        #Plot from face barycenters\n",
    "        B = igl.barycenter(V, F)\n",
    "        p.add_lines(B, B + R * avg)\n",
    "    \n",
    "    return p"
   ]
  },
  {
   "cell_type": "markdown",
   "metadata": {},
   "source": [
    "# 0. Soft Constraints"
   ]
  },
  {
   "cell_type": "code",
   "execution_count": 10,
   "metadata": {},
   "outputs": [],
   "source": [
    "def local_basis(V, F):\n",
    "    # Edges\n",
    "    e1 = V[F[:, 1], :] - V[F[:, 0], :] # first vertex to second vertex\n",
    "    e2 = V[F[:, 2], :] - V[F[:, 0], :] # first vertex to third vertex\n",
    "\n",
    "    # Compute the local reference systems for each face, T1, T2\n",
    "    T1 = e1 / np.linalg.norm(e1, axis=1)[:,None] # normalized edge, as x-axis      \n",
    "    T2 =  np.cross(T1, np.cross(T1, e2)) # perpendicular to the normal and T1\n",
    "    T2 /= np.linalg.norm(T2, axis=1)[:,None] # normalized\n",
    "    \n",
    "    return T1, T2\n",
    "\n",
    "# in cases like edges, we want the normalized complex representation\n",
    "# in other cases, we want the complex representation unnormalized such as when we want to compute the energy\n",
    "def vector_as_complex(vector, basis1, basis2):\n",
    "    assert(basis1.shape == (3,) and basis2.shape == (3,))\n",
    "    v = np.array([np.dot(vector, basis1), np.dot(vector, basis2)])\n",
    "    complex = v[0] + v[1]*1j\n",
    "    return complex\n",
    "\n",
    "def common_edge_complex(vector, basis1, basis2):\n",
    "    assert(basis1.shape == (3,) and basis2.shape == (3,))\n",
    "    v = np.array([np.dot(vector, basis1), np.dot(vector, basis2)])\n",
    "    v /= np.linalg.norm(v)\n",
    "    complex = (v[0] + v[1]*1j).conjugate()\n",
    "    return complex\n",
    "\n",
    "def Q_matrix_triplet(V, F, TT, T1, T2):\n",
    "    # Arrays for the entries of the matrix\n",
    "    data = []\n",
    "    ii = []\n",
    "    jj = []\n",
    "    \n",
    "    index = 0\n",
    "    for f in range(F.shape[0]): # Loop over the faces\n",
    "        for ei in range(3): # Loop over the edges\n",
    "            \n",
    "            # Look up the opposite/adjacent face\n",
    "            g = TT[f, ei]\n",
    "            \n",
    "            # If it is a boundary edge, it does not contribute to the energy\n",
    "            # or avoid to count every edge twice\n",
    "            if g == -1 or f > g:\n",
    "                continue\n",
    "                \n",
    "            # Compute the complex representation of the common edge\n",
    "            e  = V[F[f, (ei+1)%3], :] - V[F[f, ei], :]\n",
    "            ef = common_edge_complex(e, T1[f, :], T2[f, :])\n",
    "            eg = common_edge_complex(e, T1[g, :], T2[g, :])\n",
    "            \n",
    "            # Add the term conj(f)^n*ui - conj(g)^n*uj to the energy matrix\n",
    "            data.append(ef);  ii.append(index); jj.append(f)\n",
    "            data.append(-eg); ii.append(index); jj.append(g)\n",
    "\n",
    "            index += 1\n",
    "            \n",
    "    return data, ii, jj, index\n",
    "\n",
    "def Q_matrix(data, ii, jj, index, F_shape): \n",
    "    A = sp.coo_matrix((data, (ii, jj)), shape=(index, F_shape)).asformat(\"csr\")\n",
    "    return A.H @ A"
   ]
  },
  {
   "cell_type": "code",
   "execution_count": 11,
   "metadata": {},
   "outputs": [],
   "source": [
    "def align_field_soft(V, F, TT, cf, c, llambda):\n",
    "    soft_id, soft_value = cf, c\n",
    "    assert(soft_id[0] > 0)\n",
    "    assert(soft_id.shape[0] == soft_value.shape[0])\n",
    "\n",
    "    T1, T2 = local_basis(V, F)\n",
    "    data, ii, jj, index = Q_matrix_triplet(V, F, TT, T1, T2)\n",
    "    \n",
    "    sqrtl = sqrt(llambda)\n",
    "    \n",
    "    # Convert the constraints into the complex polynomial coefficients and add them as soft constraints\n",
    "    # Rhs of the system\n",
    "    b = np.zeros(index + soft_id.shape[0], dtype=complex)\n",
    "    \n",
    "    for ci in range(soft_id.shape[0]):\n",
    "        f = soft_id[ci]\n",
    "        v = soft_value[ci, :]\n",
    "        \n",
    "        # Project on the local frame\n",
    "        c_projection = np.dot(v, T1[f, :]) + np.dot(v, T2[f, :])*1j\n",
    "        \n",
    "        data.append(sqrtl); ii.append(index); jj.append(f)\n",
    "        b[index] = c_projection * sqrtl\n",
    "        \n",
    "        index += 1\n",
    "    \n",
    "    assert(b.shape[0] == index)\n",
    "    \n",
    "    \n",
    "    # Solve the linear system\n",
    "    A = sp.coo_matrix((data, (ii, jj)), shape=(index, F.shape[0])).asformat(\"csr\")\n",
    "    Q = Q_matrix(data, ii, jj, index, F.shape[0])\n",
    "    u = sp.linalg.spsolve(Q, A.H @ b)\n",
    "    \n",
    "    R = T1 * u.real[:,None] + T2 * u.imag[:,None]\n",
    "\n",
    "    return R"
   ]
  },
  {
   "cell_type": "code",
   "execution_count": 12,
   "metadata": {
    "scrolled": true
   },
   "outputs": [
    {
     "data": {
      "application/vnd.jupyter.widget-view+json": {
       "model_id": "92ecff35ba7547f8a905c940024fbd9a",
       "version_major": 2,
       "version_minor": 0
      },
      "text/plain": [
       "Renderer(camera=PerspectiveCamera(children=(DirectionalLight(color='white', intensity=0.6, position=(0.0, 0.0,…"
      ]
     },
     "metadata": {},
     "output_type": "display_data"
    },
    {
     "data": {
      "text/plain": [
       "<meshplot.Viewer.Viewer at 0x1212e03d0>"
      ]
     },
     "execution_count": 12,
     "metadata": {},
     "output_type": "execute_result"
    }
   ],
   "source": [
    "v, f, tt, c, cf = get_data()\n",
    "R = align_field_soft(v, f, tt, cf, c, 1e6)\n",
    "plot_mesh_field(v, f, R, cf)"
   ]
  },
  {
   "cell_type": "markdown",
   "metadata": {},
   "source": [
    "# 1. Tangent vector fields for scalar field design"
   ]
  },
  {
   "cell_type": "markdown",
   "metadata": {},
   "source": [
    "## Methods\n",
    "The main equation simplifies to: \n",
    "\n",
    "![](https://latex.codecogs.com/svg.latex?Q_{ff}u_f=-Q_{fc}u_c)<br/>\n",
    "<!-- $Q_{ff} \\tilde{u}_f = -Q_{fc} \\tilde{u}_c$ -->\n",
    "\n",
    "So we now try to find each of the terms in the equation above, solving for `u_f`"
   ]
  },
  {
   "cell_type": "code",
   "execution_count": 13,
   "metadata": {},
   "outputs": [],
   "source": [
    "# vec \\subset U = {0, 1, ..., |universe|-1}\n",
    "# returns U \\ vec\n",
    "def set_inversion(vec, universe):\n",
    "    return np.array(sorted(set(range(universe)) - set(vec)))"
   ]
  },
  {
   "cell_type": "code",
   "execution_count": 14,
   "metadata": {},
   "outputs": [],
   "source": [
    "def get_Q_ff_Q_fc(Q, cf, f_num): \n",
    "    # also get non constrained faces\n",
    "    ncf = set_inversion(cf, f_num)\n",
    "    \n",
    "    # Q_ff, Q_fc\n",
    "    Q_ff = Q[ncf, :][:, ncf]\n",
    "    Q_fc = Q[ncf, :][:, cf]\n",
    "    return Q_ff, Q_fc"
   ]
  },
  {
   "cell_type": "code",
   "execution_count": 15,
   "metadata": {},
   "outputs": [],
   "source": [
    "# T1 and T2 are the local basis vectors at each face\n",
    "# c is the constraints as 3D vectors, cf is the constrained faces indices\n",
    "def get_u_c(c, cf, T1, T2): \n",
    "    u_c, i = np.zeros(cf.shape[0], dtype=complex), 0\n",
    "    for f in cf:\n",
    "        # get the complex representation of the constraint\n",
    "        complex_c = vector_as_complex(c[i], T1[f, :], T2[f, :])\n",
    "        u_c[i] = complex_c\n",
    "        i += 1\n",
    "    return u_c"
   ]
  },
  {
   "cell_type": "code",
   "execution_count": 16,
   "metadata": {},
   "outputs": [],
   "source": [
    "def get_cf_to_c_map(cf, c): \n",
    "    mp = {}\n",
    "    for i in range(cf.shape[0]): \n",
    "        mp[cf[i]] = c[i]\n",
    "    return mp"
   ]
  },
  {
   "cell_type": "code",
   "execution_count": 17,
   "metadata": {},
   "outputs": [],
   "source": [
    "# after getting uf, and having uc and cf, we can get the originally correct u vector\n",
    "def get_ordered_u(u_f, u_c, cf): \n",
    "    u = np.zeros(u_f.shape[0] + u_c.shape[0], dtype=complex)\n",
    "    cf_set = set(cf)\n",
    "    u_n = u_f.shape[0] + u_c.shape[0]\n",
    "    mp = get_cf_to_c_map(cf, u_c)\n",
    "    for i in range(u_n): \n",
    "        # if the current index is in the set of constrained faces, then we need to get the value from u_c\n",
    "        if i in cf_set:\n",
    "            u[i] = mp[i]\n",
    "        else:  \n",
    "            u[i] = u_f[0]\n",
    "            u_f = u_f[1:]\n",
    "    return u"
   ]
  },
  {
   "cell_type": "code",
   "execution_count": 18,
   "metadata": {},
   "outputs": [],
   "source": [
    "def align_field_hard(V, F, TT, c, cf):\n",
    "    # get the unmodified Q matrix\n",
    "    T1, T2 = local_basis(V, F)\n",
    "    data, ii, jj, index = Q_matrix_triplet(V, F, TT, T1, T2)\n",
    "    Q = Q_matrix(data, ii, jj, index, F.shape[0])\n",
    "    \n",
    "    # now we reorder Q and take Q_ff and Q_fc\n",
    "    Q_ff, Q_fc = get_Q_ff_Q_fc(Q, cf, F.shape[0])\n",
    "    \n",
    "    # then we solve for u_f using the equation that Q_ff * u_f = -Q_fc * u_c\n",
    "    # solve the linear equation of the hard constraints\n",
    "    u_c = get_u_c(c, cf, T1, T2)\n",
    "    neg_Q_fc_u_c = -Q_fc @ u_c\n",
    "    u_f = sp.linalg.spsolve(Q_ff, neg_Q_fc_u_c)\n",
    "    \n",
    "    # re-reorder the resultant u_f into the original order `u`\n",
    "    u = get_ordered_u(u_f, u_c, cf)\n",
    "    R = T1 * u.real[:,None] + T2 * u.imag[:,None]\n",
    "    return R"
   ]
  },
  {
   "cell_type": "markdown",
   "metadata": {},
   "source": [
    "## Required Output"
   ]
  },
  {
   "cell_type": "markdown",
   "metadata": {},
   "source": [
    "Visualization of the constraints and interpolated field."
   ]
  },
  {
   "cell_type": "code",
   "execution_count": 19,
   "metadata": {},
   "outputs": [
    {
     "data": {
      "application/vnd.jupyter.widget-view+json": {
       "model_id": "1e1a248286e04d84b0eac4f0f2f33123",
       "version_major": 2,
       "version_minor": 0
      },
      "text/plain": [
       "Renderer(camera=PerspectiveCamera(children=(DirectionalLight(color='white', intensity=0.6, position=(0.0, 0.0,…"
      ]
     },
     "metadata": {},
     "output_type": "display_data"
    },
    {
     "data": {
      "text/plain": [
       "<meshplot.Viewer.Viewer at 0x12130ce80>"
      ]
     },
     "execution_count": 19,
     "metadata": {},
     "output_type": "execute_result"
    }
   ],
   "source": [
    "v, f, tt, c, cf = get_data()\n",
    "R = align_field_hard(v, f, tt, c=c, cf=cf)\n",
    "plot_mesh_field(v, f, R, cf)"
   ]
  },
  {
   "cell_type": "markdown",
   "metadata": {},
   "source": [
    "An ASCII dump of the interpolated field (#F x 3 matrix, one vector per row) for the mesh irr4-cyl2.off and the input constraints in the provided file irr4-cyl2.constraints.\n"
   ]
  },
  {
   "cell_type": "code",
   "execution_count": 20,
   "metadata": {},
   "outputs": [],
   "source": [
    "# ASCII dump of the mesh and the field\n",
    "np.savetxt('task1-ascii.txt', R, delimiter=\" \", fmt=\"%s\")"
   ]
  },
  {
   "cell_type": "markdown",
   "metadata": {},
   "source": [
    "# 2. Reconstructing a scalar field from a vector field"
   ]
  },
  {
   "cell_type": "markdown",
   "metadata": {},
   "source": [
    "## Logic"
   ]
  },
  {
   "cell_type": "markdown",
   "metadata": {},
   "source": [
    "### Q: Determine the matrix K and vector b in the above minimization (by expanding the least-squares error expression).\n",
    "\n",
    "ANS: The equation simplifies to minimizing`E = s'*G'*A*G*s-s'*G'*A*u-u'*A*G*s+u'*A*u`. If we place it in terms of the README, we have `K = G'*A*G` [a V x V matrix] and `b = - G'*A*u` [a V x 1 matrix] and `c=u'*A*G*s+u'*A*u` [a scalar]. We then have `E = s'*K*s+2*b'*s+c`.\n",
    "\n",
    "![](https://latex.codecogs.com/svg.latex?E=s^\\top&space;Ks+s^\\top&space;b+c)<br/>\n",
    "<!-- $E = s'^\\top Ks - 2b^\\top s + c$ -->\n",
    "\n",
    "![](https://latex.codecogs.com/svg.latex?K=G^\\top&space;AG)<br/>\n",
    "<!-- $K = G'^\\top AG$ --> \n",
    "\n",
    "![](https://latex.codecogs.com/svg.latex?b=-2G^\\top&space;Au)<br/>\n",
    "<!-- $b = -2G'^\\top Au$ -->\n",
    "\n",
    "\n",
    "where $K$ is a $V \\times V$ matrix, $b$ is a $V \\times 1$ vector.\n",
    "\n",
    "<!-- ![](https://latex.codecogs.com/svg.latex?c=u^\\top&space;AGs+u^\\top&space;Au)<br/> -->\n",
    "<!-- $c = u'^\\top AGs + u'^\\top Au$ -->\n",
    "<!-- is a scalar -->\n",
    "\n",
    "<!-- $\\vec g_t = \\nabla S_t = \\sum\\limits_{\\textrm{vertex}~i~\\in~t}^3 s_i \\nabla\\phi_i^t$ -->"
   ]
  },
  {
   "cell_type": "markdown",
   "metadata": {},
   "source": [
    "### Q: Minimize by differentiating and equating the gradient to zero; this gives you a linear system to solve\n",
    "\n",
    "ANS: \n",
    "We also get `grad E = 2*G'*A*G*s-2*G'*A*u` and we then set it to zero to find the minimum.\n",
    "\n",
    "This gives the linear sytem `G'*A*G*s = G'*A*u` which we can solve for `s` \n",
    "\n",
    "![](https://latex.codecogs.com/svg.latex?\\\\nabla&space;E=2K\\\\mathbf{s}+\\\\mathbf{b})<br/>\n",
    "<!-- $\\nabla E = 2K\\mathbf{s} + 2\\mathbf{b}$ -->\n",
    "Setting ![](https://latex.codecogs.com/svg.latex?\\\\nabla&space;E=0)<br/>\n",
    "<!-- $\\nabla E = 0$ -->\n",
    "gives the linear system:\n",
    "\n",
    "![](https://latex.codecogs.com/svg.latex?2K\\\\mathbf{s}=\\\\mathbf{-b})<br/>\n",
    "\n",
    "<!-- $K\\mathbf{s} = \\mathbf{b}$ -->\n",
    "Which can be solved for ![](https://latex.codecogs.com/svg.latex?\\\\mathbf{s})<br/>\n",
    "\n",
    "<!-- $\\mathbf{s}$ -->\n",
    "\n",
    "so we have the equation \n",
    "![](https://latex.codecogs.com/svg.latex?2G^\\top&space;AGs=2G^\\top&space;Au)<br/>\n",
    "<!-- $G'^\\top AGs = G'^\\top Au$ -->"
   ]
  },
  {
   "cell_type": "markdown",
   "metadata": {},
   "source": [
    "## G, A, and u "
   ]
  },
  {
   "cell_type": "markdown",
   "metadata": {},
   "source": [
    "We can simply get G from `igl.grad` and A from `igl.doublearea`.\n",
    "\n",
    "Because `igl.grad` gives a vertical stack of `G_x, G_y, G_z`, we also need to order A accordingly to stacking it, and also `u` to be a vertical stack of `u_x, u_y, u_z`"
   ]
  },
  {
   "cell_type": "code",
   "execution_count": 21,
   "metadata": {},
   "outputs": [],
   "source": [
    "# reshapes vertically stacked vector (vx, vy, vz) into horizontally stacked \n",
    "def reshape_vertical_xyz_vector(v):\n",
    "    n = v.shape[0] // 3\n",
    "    vx, vy, vz = v[:n], v[n:2*n], v[2*n:]\n",
    "    return np.hstack((vx.reshape(-1, 1), vy.reshape(-1, 1), vz.reshape(-1, 1)))"
   ]
  },
  {
   "cell_type": "code",
   "execution_count": 22,
   "metadata": {},
   "outputs": [],
   "source": [
    "def get_G(v, f): \n",
    "    return igl.grad(v, f)"
   ]
  },
  {
   "cell_type": "code",
   "execution_count": 23,
   "metadata": {},
   "outputs": [],
   "source": [
    "def get_A(v, f): \n",
    "    double_a_vec = igl.doublearea(v, f)\n",
    "    a_vec = double_a_vec / 2\n",
    "    a_thrice = np.concatenate([a_vec, a_vec, a_vec])\n",
    "    A = sp.diags(a_thrice)\n",
    "    return A"
   ]
  },
  {
   "cell_type": "code",
   "execution_count": 24,
   "metadata": {},
   "outputs": [],
   "source": [
    "def get_reordered_real_u(R): \n",
    "    # u is of size F x 3 (3D vector for each face)\n",
    "    # we then want to stack the x, y, z components of each face vector\n",
    "    return np.concatenate([R[:, 0], R[:, 1], R[:, 2]])"
   ]
  },
  {
   "cell_type": "code",
   "execution_count": 25,
   "metadata": {},
   "outputs": [],
   "source": [
    "def get_G_A_u(v, f, R):\n",
    "    G = get_G(v, f)\n",
    "    A = get_A(v, f)\n",
    "    u = get_reordered_real_u(R)\n",
    "    return G, A, u"
   ]
  },
  {
   "cell_type": "markdown",
   "metadata": {},
   "source": [
    "## Solving the linear system"
   ]
  },
  {
   "cell_type": "markdown",
   "metadata": {},
   "source": [
    "![](https://latex.codecogs.com/svg.latex?K=G^\\top&space;AG)<br/>\n",
    "<!-- $K = G'^\\top AG$ -->\n",
    "\n",
    "![](https://latex.codecogs.com/svg.latex?b=-2G^\\top&space;Au)<br/>\n",
    "<!-- $b = -G'^\\top Au$ -->\n",
    "\n",
    "\n"
   ]
  },
  {
   "cell_type": "code",
   "execution_count": 26,
   "metadata": {},
   "outputs": [],
   "source": [
    "def get_K(G, A): \n",
    "    return G.T @ A @ G\n",
    "\n",
    "def get_b(G, A, u):\n",
    "    return - 2 * G.T @ A @ u"
   ]
  },
  {
   "cell_type": "code",
   "execution_count": 27,
   "metadata": {},
   "outputs": [],
   "source": [
    "# the linear system is not full rank; K has a one dimensional nullspace corresponding to the constant function. This is because a scalar field can be offset by any constant value without altering its gradient. You will need to fix the value at one vertex (e.g., to zero) to solve the system.\n",
    "# this works for the special case that fixed vertex is 0\n",
    "def fix_boundary_vertex(K, b, fixed_vertex): \n",
    "    K[fixed_vertex, :] = 0\n",
    "    K[:, fixed_vertex] = 0\n",
    "    K[fixed_vertex, fixed_vertex] = 1\n",
    "    b[fixed_vertex] = 0\n",
    "    return K, b"
   ]
  },
  {
   "cell_type": "code",
   "execution_count": 28,
   "metadata": {},
   "outputs": [],
   "source": [
    "def reconstruct_scalar_field(A, G, real_u):     \n",
    "    # get the K matrix and b vector\n",
    "    K = get_K(G, A)\n",
    "    b = get_b(G, A, real_u)\n",
    "    \n",
    "    # fix the boundary vertex\n",
    "    K, b = fix_boundary_vertex(K, b, 0)\n",
    "    two_K = K * 2\n",
    "\n",
    "    # results \n",
    "    s = sp.linalg.spsolve(two_K, -b)\n",
    "    return s"
   ]
  },
  {
   "cell_type": "markdown",
   "metadata": {},
   "source": [
    "## Poisson Reconstruction Error"
   ]
  },
  {
   "cell_type": "code",
   "execution_count": 29,
   "metadata": {},
   "outputs": [],
   "source": [
    "def get_error(G, s, real_u):\n",
    "    g = G @ s\n",
    "    a = g - real_u\n",
    "    a2 = reshape_vertical_xyz_vector(a)\n",
    "    return np.linalg.norm(a2, axis=1)"
   ]
  },
  {
   "cell_type": "markdown",
   "metadata": {},
   "source": [
    "## Plotting the scalar field"
   ]
  },
  {
   "cell_type": "code",
   "execution_count": 30,
   "metadata": {},
   "outputs": [],
   "source": [
    "def task_2_plots(v, f, cf, R, s, error):\n",
    "    print(\"PLOT VECTOR FIELD\")\n",
    "    plot_mesh_field(v, f, R, cf)\n",
    "    print(\"PLOT SCALAR FIELD\")\n",
    "    plot_mesh_field(v, f, R, cf, col=s)\n",
    "    print(\"PLOT POISSON ERROR\")\n",
    "    plot_mesh_field(v, f, R, cf, col=error)     \n",
    "    \n",
    "\n",
    "def task_2():\n",
    "    v, f, tt, c, cf = get_data()\n",
    "    R = align_field_hard(v, f, tt, c=c, cf=cf)\n",
    "    G, A, real_u = get_G_A_u(v, f, R)\n",
    "    s = reconstruct_scalar_field(A, G, real_u)\n",
    "    error = get_error(G, s, real_u)\n",
    "    task_2_plots(v, f, cf, R, s, error)\n",
    "    return s"
   ]
  },
  {
   "cell_type": "markdown",
   "metadata": {},
   "source": [
    "## Required Output"
   ]
  },
  {
   "cell_type": "markdown",
   "metadata": {},
   "source": [
    "Visualization of computed scalar function and its gradient.\n",
    "Plots of the Poisson reconstruction error."
   ]
  },
  {
   "cell_type": "code",
   "execution_count": 31,
   "metadata": {},
   "outputs": [
    {
     "name": "stdout",
     "output_type": "stream",
     "text": [
      "PLOT VECTOR FIELD\n"
     ]
    },
    {
     "name": "stderr",
     "output_type": "stream",
     "text": [
      "/Users/brayton/opt/anaconda3/envs/my_tf_env/lib/python3.9/site-packages/scipy/sparse/_index.py:145: SparseEfficiencyWarning: Changing the sparsity structure of a csr_matrix is expensive. lil_matrix is more efficient.\n",
      "  self._set_arrayXarray(i, j, x)\n"
     ]
    },
    {
     "data": {
      "application/vnd.jupyter.widget-view+json": {
       "model_id": "46e63474542b40afbf38b9afbcf2dfcd",
       "version_major": 2,
       "version_minor": 0
      },
      "text/plain": [
       "Renderer(camera=PerspectiveCamera(children=(DirectionalLight(color='white', intensity=0.6, position=(0.0, 0.0,…"
      ]
     },
     "metadata": {},
     "output_type": "display_data"
    },
    {
     "name": "stdout",
     "output_type": "stream",
     "text": [
      "PLOT SCALAR FIELD\n"
     ]
    },
    {
     "data": {
      "application/vnd.jupyter.widget-view+json": {
       "model_id": "1f8ef3ed3e9040208442458dfda9deb1",
       "version_major": 2,
       "version_minor": 0
      },
      "text/plain": [
       "Renderer(camera=PerspectiveCamera(children=(DirectionalLight(color='white', intensity=0.6, position=(0.0, 0.0,…"
      ]
     },
     "metadata": {},
     "output_type": "display_data"
    },
    {
     "name": "stdout",
     "output_type": "stream",
     "text": [
      "PLOT POISSON ERROR\n"
     ]
    },
    {
     "data": {
      "application/vnd.jupyter.widget-view+json": {
       "model_id": "f4b7fdca93fa4f7fbfa3fea71b50a5e5",
       "version_major": 2,
       "version_minor": 0
      },
      "text/plain": [
       "Renderer(camera=PerspectiveCamera(children=(DirectionalLight(color='white', intensity=0.6, position=(0.0, 0.0,…"
      ]
     },
     "metadata": {},
     "output_type": "display_data"
    }
   ],
   "source": [
    "s = task_2()"
   ]
  },
  {
   "cell_type": "markdown",
   "metadata": {},
   "source": [
    "An ASCII dump of the reconstructed scalar function (#V x 1 vector one vertex value per row) for the mesh irr4-cyl2.off and the input constraints in irr4-cyl2.constraints."
   ]
  },
  {
   "cell_type": "code",
   "execution_count": 32,
   "metadata": {},
   "outputs": [],
   "source": [
    "np.savetxt('task2-ascii.txt', s, delimiter=\" \", fmt=\"%s\")"
   ]
  },
  {
   "cell_type": "markdown",
   "metadata": {},
   "source": [
    "# 3. Harmonic and LSCM Parameterization"
   ]
  },
  {
   "cell_type": "markdown",
   "metadata": {},
   "source": [
    "## Gradient"
   ]
  },
  {
   "cell_type": "code",
   "execution_count": 33,
   "metadata": {},
   "outputs": [],
   "source": [
    "# returns gradient w.r.t u and v\n",
    "def get_mapping_gradient(v, f, uv): \n",
    "    G = get_G(v, f)\n",
    "    g_u_vertical = G @ uv[:, 0]\n",
    "    g_v_vertical = G @ uv[:, 1]\n",
    "    g_u, g_v = reshape_vertical_xyz_vector(g_u_vertical), reshape_vertical_xyz_vector(g_v_vertical)\n",
    "    return g_u, g_v"
   ]
  },
  {
   "cell_type": "markdown",
   "metadata": {},
   "source": [
    "## Plotting Utility"
   ]
  },
  {
   "cell_type": "code",
   "execution_count": 34,
   "metadata": {},
   "outputs": [],
   "source": [
    "def plot_subplots(v, f, uv): \n",
    "    p = mp.subplot(v, f, uv=uv, s=[1, 2, 0])\n",
    "    mp.subplot(uv, f, uv=uv, shading={\"wireframe\": True}, data=p, s=[1, 2, 1])"
   ]
  },
  {
   "cell_type": "code",
   "execution_count": 35,
   "metadata": {},
   "outputs": [],
   "source": [
    "def plot_gradient(v, f, uv): \n",
    "    avg = igl.avg_edge_length(v, f)/2\n",
    "    centers = igl.barycenter(v, f)\n",
    "    g_u, g_v = get_mapping_gradient(v, f, uv)\n",
    "    p2 = mp.plot(v, f, uv=uv)\n",
    "    p2.add_lines(centers, centers + g_u * avg)\n",
    "    p2.add_lines(centers, centers + g_v * avg)"
   ]
  },
  {
   "cell_type": "code",
   "execution_count": 36,
   "metadata": {},
   "outputs": [],
   "source": [
    "def plot_parametization(v, f, uv, show_gradient=False, show_subplots=False): \n",
    "    if show_subplots: \n",
    "        plot_subplots(v, f, uv)\n",
    "    \n",
    "    # add lines to show gradient\n",
    "    if show_gradient:\n",
    "        plot_gradient(v, f, uv)"
   ]
  },
  {
   "cell_type": "markdown",
   "metadata": {},
   "source": [
    "## Harmonic"
   ]
  },
  {
   "cell_type": "code",
   "execution_count": 37,
   "metadata": {},
   "outputs": [],
   "source": [
    "# background parameter\n",
    "def harmonic(v, f): \n",
    "    # you will first map the mesh boundary to a unit circle in the UV plane centered at the origin.\n",
    "    bnd = igl.boundary_loop(f) # Compute ordered boundary loops for a manifold mesh and return the longest loop in terms of vertices.\n",
    "    uv_bc = igl.map_vertices_to_circle(v, bnd)\n",
    "    \n",
    "    # The boundary U and V coordinates are then \"harmonically interpolated\" into the interior\n",
    "    uv = igl.harmonic(v, f, bnd, uv_bc, 1)\n",
    "    return uv"
   ]
  },
  {
   "cell_type": "markdown",
   "metadata": {},
   "source": [
    "## LSCM"
   ]
  },
  {
   "cell_type": "code",
   "execution_count": 38,
   "metadata": {},
   "outputs": [],
   "source": [
    "def lscm(v, f): \n",
    "    # Fix two arbitrary boundary vertices at (0, 1) and (1, 1)\n",
    "    bnd = igl.boundary_loop(f)\n",
    "    bnd_vertices = np.array([bnd[0], bnd[1]])\n",
    "    bnd_uv = np.array([[0.0,0.0],[0.0,1.0]])\n",
    "    \n",
    "    # Compute LSCM bnd[1]\n",
    "    _, uv = igl.lscm(v, f, bnd_vertices, bnd_uv)\n",
    "    return uv"
   ]
  },
  {
   "cell_type": "markdown",
   "metadata": {},
   "source": [
    "## Required Output"
   ]
  },
  {
   "cell_type": "markdown",
   "metadata": {},
   "source": [
    "Visualization of the computed mapping functions and their gradients for LSCM and harmonic mapping."
   ]
  },
  {
   "cell_type": "markdown",
   "metadata": {},
   "source": [
    "Harmonic"
   ]
  },
  {
   "cell_type": "code",
   "execution_count": 39,
   "metadata": {},
   "outputs": [],
   "source": [
    "file = \"data/camel_head.off\"\n",
    "v, f, _, _, _ = get_data(file)\n",
    "uv = harmonic(v, f)"
   ]
  },
  {
   "cell_type": "code",
   "execution_count": 40,
   "metadata": {},
   "outputs": [
    {
     "data": {
      "application/vnd.jupyter.widget-view+json": {
       "model_id": "ce01d32300c04c07ae35c92f1a1ed5fa",
       "version_major": 2,
       "version_minor": 0
      },
      "text/plain": [
       "HBox(children=(Output(), Output()))"
      ]
     },
     "metadata": {},
     "output_type": "display_data"
    }
   ],
   "source": [
    "plot_subplots(v, f, uv)"
   ]
  },
  {
   "cell_type": "code",
   "execution_count": 41,
   "metadata": {},
   "outputs": [
    {
     "data": {
      "application/vnd.jupyter.widget-view+json": {
       "model_id": "8434ca03d46049cf8af0ed99594a5121",
       "version_major": 2,
       "version_minor": 0
      },
      "text/plain": [
       "Renderer(camera=PerspectiveCamera(children=(DirectionalLight(color='white', intensity=0.6, position=(1.9967555…"
      ]
     },
     "metadata": {},
     "output_type": "display_data"
    }
   ],
   "source": [
    "plot_gradient(v, f, uv)"
   ]
  },
  {
   "cell_type": "markdown",
   "metadata": {},
   "source": [
    "LSCM"
   ]
  },
  {
   "cell_type": "code",
   "execution_count": 42,
   "metadata": {},
   "outputs": [],
   "source": [
    "file = \"data/camel_head.off\"\n",
    "v, f, _, _, _ = get_data(file)\n",
    "uv = lscm(v, f)"
   ]
  },
  {
   "cell_type": "code",
   "execution_count": 43,
   "metadata": {},
   "outputs": [
    {
     "data": {
      "application/vnd.jupyter.widget-view+json": {
       "model_id": "1939ce66bd1245f58818653fe7a56650",
       "version_major": 2,
       "version_minor": 0
      },
      "text/plain": [
       "HBox(children=(Output(), Output()))"
      ]
     },
     "metadata": {},
     "output_type": "display_data"
    }
   ],
   "source": [
    "plot_subplots(v, f, uv)"
   ]
  },
  {
   "cell_type": "code",
   "execution_count": 44,
   "metadata": {},
   "outputs": [
    {
     "data": {
      "application/vnd.jupyter.widget-view+json": {
       "model_id": "e8fe9944ce7944e39aaa4dd7cf5c4205",
       "version_major": 2,
       "version_minor": 0
      },
      "text/plain": [
       "Renderer(camera=PerspectiveCamera(children=(DirectionalLight(color='white', intensity=0.6, position=(1.9967555…"
      ]
     },
     "metadata": {},
     "output_type": "display_data"
    }
   ],
   "source": [
    "plot_gradient(v, f, uv)"
   ]
  },
  {
   "cell_type": "markdown",
   "metadata": {},
   "source": [
    "# 4. Editing a parameterization with vector fields"
   ]
  },
  {
   "cell_type": "markdown",
   "metadata": {},
   "source": [
    "## Editing the parameterization"
   ]
  },
  {
   "cell_type": "markdown",
   "metadata": {},
   "source": [
    "We fix either U or V and then solve for the other by using constraints. This can be helpful for making a better parameterization."
   ]
  },
  {
   "cell_type": "code",
   "execution_count": 45,
   "metadata": {},
   "outputs": [],
   "source": [
    "def task_4_uv(): \n",
    "    # step 0 \n",
    "    v, f, tt, c, cf = get_data()\n",
    "\n",
    "    # step 1 \n",
    "    uv = harmonic(v, f)\n",
    "\n",
    "    # step 2 \n",
    "    R = align_field_hard(v, f, tt, c=c, cf=cf)\n",
    "\n",
    "    # step 3 \n",
    "    G, A, real_u = get_G_A_u(v, f, R)\n",
    "    s = reconstruct_scalar_field(A, G, real_u)\n",
    "\n",
    "    # we fix U and change V\n",
    "    uv_reconstructed = np.column_stack([uv[:,0], s])\n",
    "    return uv_reconstructed, v, f, cf"
   ]
  },
  {
   "cell_type": "markdown",
   "metadata": {},
   "source": [
    "## Detecting problems with the parameterization"
   ]
  },
  {
   "cell_type": "markdown",
   "metadata": {},
   "source": [
    "Each 3D vertex maps to a 2D UV point. Our goal is to loop through each triangle in the UV plane and check if the signed area is negative (or look into the sign of the normal to each triangle). If it is, it is flipped. To do so, we look into the vertex in the UV array as the points."
   ]
  },
  {
   "cell_type": "code",
   "execution_count": 46,
   "metadata": {},
   "outputs": [],
   "source": [
    "# (u, v, 0)\n",
    "def uv_to_3d(uv_point):\n",
    "    return np.array([uv_point[0], uv_point[1], 0])\n",
    "\n",
    "def get_flipped_triangles(f, uv):\n",
    "    flipped = []\n",
    "    # for each triangle\n",
    "    for face in range(f.shape[0]): \n",
    "        # get the vertices' indices\n",
    "        vidx1, vidx2, vidx3 = f[face]\n",
    "        # get the UV coordinates as now 3D points \n",
    "        v1, v2, v3 = uv_to_3d(uv[vidx1]), uv_to_3d(uv[vidx2]), uv_to_3d(uv[vidx3])\n",
    "        # get the normal of the triangle\n",
    "        normal = np.cross(v2 - v1, v3 - v1)\n",
    "        # if negative, then the triangle is flipped\n",
    "        if normal[2] < 0: \n",
    "            flipped.append(face)\n",
    "    # we want the \"flipped\" triangles to be the minority flip\n",
    "    if len(flipped) > len(f) / 2:  \n",
    "        flipped = set_inversion(flipped, len(f))\n",
    "    return flipped"
   ]
  },
  {
   "cell_type": "code",
   "execution_count": 47,
   "metadata": {},
   "outputs": [],
   "source": [
    "def plot_flipped_triangles(flipped, v, f, cf): \n",
    "    color = np.zeros_like(f)\n",
    "    color[flipped, 1:] = 1\n",
    "    plot_mesh_field(v, f, np.zeros_like(v), cf, col=color, add_lines=False)"
   ]
  },
  {
   "cell_type": "markdown",
   "metadata": {},
   "source": [
    "## Required Output"
   ]
  },
  {
   "cell_type": "code",
   "execution_count": 48,
   "metadata": {},
   "outputs": [],
   "source": [
    "uv_reconstructed, v, f, cf = task_4_uv()\n",
    "flipped_triangles = get_flipped_triangles(f, uv_reconstructed)"
   ]
  },
  {
   "cell_type": "markdown",
   "metadata": {},
   "source": [
    "Visualization of the edited parameterization."
   ]
  },
  {
   "cell_type": "code",
   "execution_count": 49,
   "metadata": {},
   "outputs": [
    {
     "data": {
      "application/vnd.jupyter.widget-view+json": {
       "model_id": "35e3554bbd664892b5a48e14163c66bb",
       "version_major": 2,
       "version_minor": 0
      },
      "text/plain": [
       "HBox(children=(Output(), Output()))"
      ]
     },
     "metadata": {},
     "output_type": "display_data"
    }
   ],
   "source": [
    "plot_subplots(v, f, uv_reconstructed)"
   ]
  },
  {
   "cell_type": "markdown",
   "metadata": {},
   "source": [
    "Visualization of flipped elements."
   ]
  },
  {
   "cell_type": "code",
   "execution_count": 50,
   "metadata": {},
   "outputs": [
    {
     "data": {
      "application/vnd.jupyter.widget-view+json": {
       "model_id": "a35ae902496047dcab2ea78b32e4e3fb",
       "version_major": 2,
       "version_minor": 0
      },
      "text/plain": [
       "Renderer(camera=PerspectiveCamera(children=(DirectionalLight(color='white', intensity=0.6, position=(0.0, 0.0,…"
      ]
     },
     "metadata": {},
     "output_type": "display_data"
    }
   ],
   "source": [
    "plot_flipped_triangles(flipped_triangles, v, f, cf)"
   ]
  },
  {
   "cell_type": "markdown",
   "metadata": {},
   "source": [
    "An ASCII dump of the flipped triangle indices (if any) resulting from an edited harmonic parameterization of the mesh irr4-cyl2.off, where the parameterization's V coordinate is replaced with a scalar field designed from the gradient vector constraints provided in irr4-cyl2.constraints."
   ]
  },
  {
   "cell_type": "code",
   "execution_count": 51,
   "metadata": {},
   "outputs": [],
   "source": [
    "np.savetxt('task4.txt', flipped_triangles, delimiter=\" \", fmt=\"%s\")"
   ]
  }
 ],
 "metadata": {
  "kernelspec": {
   "display_name": "Python 3 (ipykernel)",
   "language": "python",
   "name": "python3"
  },
  "language_info": {
   "codemirror_mode": {
    "name": "ipython",
    "version": 3
   },
   "file_extension": ".py",
   "mimetype": "text/x-python",
   "name": "python",
   "nbconvert_exporter": "python",
   "pygments_lexer": "ipython3",
   "version": "3.9.18"
  }
 },
 "nbformat": 4,
 "nbformat_minor": 4
}
